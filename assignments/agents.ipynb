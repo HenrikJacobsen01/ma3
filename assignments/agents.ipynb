{
 "cells": [
  {
   "cell_type": "markdown",
   "metadata": {},
   "source": [
    "**AI & Machine Learning (KAN-CINTO4003U) - Copenhagen Business School | Spring 2025**\n",
    "\n",
    "***"
   ]
  },
  {
   "cell_type": "markdown",
   "metadata": {},
   "source": [
    "# Part I: Agents\n",
    "\n",
    "Please see the description of the assignment in the README file (section 1) <br>\n",
    "**Guide notebook**: [guides/agents_guide.ipynb](guides/agents_guide.ipynb)\n",
    "\n",
    "\n",
    "***\n",
    "<br>\n",
    "\n",
    "* Remember to include some reflections on your results. Are there, for example, any hyperparameters that are particularly important?\n",
    "\n",
    "* You should follow the steps given in the `agents_guide` notebook to create your own RAG system.\n",
    "\n",
    "<br>\n",
    "\n",
    "***"
   ]
  },
  {
   "cell_type": "markdown",
   "metadata": {},
   "source": [
    "### Set Up"
   ]
  },
  {
   "cell_type": "code",
   "execution_count": 1,
   "metadata": {},
   "outputs": [],
   "source": [
    "# langgraph/langchain libraries\n",
    "from langgraph.prebuilt import create_react_agent\n",
    "from langchain_ibm import ChatWatsonx\n",
    "from langchain_ibm import WatsonxEmbeddings\n",
    "from langchain_chroma import Chroma\n",
    "from langchain_core.tools import tool\n",
    "from langchain.tools.retriever import create_retriever_tool\n",
    "from langchain_community.tools import DuckDuckGoSearchResults\n",
    "\n",
    "# misc libraries\n",
    "import requests\n",
    "from decouple import config"
   ]
  },
  {
   "cell_type": "code",
   "execution_count": 2,
   "metadata": {},
   "outputs": [
    {
     "name": "stdout",
     "output_type": "stream",
     "text": [
      "API Key loaded successfully!\n"
     ]
    }
   ],
   "source": [
    "import json\n",
    "\n",
    "json_file_path = \"/Users/henrikjacobsen/Desktop/CBS/Semester 2/Artifical Intelligence and Machine Learning/apikey.json\"\n",
    "\n",
    "with open(json_file_path, \"r\") as file:\n",
    "    data = json.load(file)\n",
    "\n",
    "WX_API_KEY = data.get(\"apikey\")\n",
    "\n",
    "if WX_API_KEY:\n",
    "    print(\"API Key loaded successfully!\")\n",
    "else:\n",
    "    print(\"Error: API Key not found in JSON file.\")\n",
    "\n",
    "WX_PROJECT_ID = \"0a2386df-d12c-40ee-bda2-190a5c6cc1fd\"\n",
    "WX_API_URL = \"https://us-south.ml.cloud.ibm.com\""
   ]
  },
  {
   "cell_type": "code",
   "execution_count": 3,
   "metadata": {},
   "outputs": [],
   "source": [
    "chat_model = ChatWatsonx(\n",
    "    url=WX_API_URL,\n",
    "    apikey=WX_API_KEY,\n",
    "    project_id=WX_PROJECT_ID,\n",
    "    model_id=\"mistralai/mistral-large\",\n",
    ")"
   ]
  },
  {
   "cell_type": "markdown",
   "metadata": {},
   "source": [
    "### Agent Architecture "
   ]
  },
  {
   "cell_type": "code",
   "execution_count": 4,
   "metadata": {},
   "outputs": [],
   "source": [
    "@tool\n",
    "def add(a: float, b: float) -> float:\n",
    "    \"\"\"Add a and b.\"\"\"\n",
    "    return a + b\n",
    "\n",
    "@tool\n",
    "def subtract(a: float, b: float) -> float:\n",
    "    \"\"\"Subtract a and b.\"\"\"\n",
    "    return a - b\n",
    "\n",
    "@tool\n",
    "def multiply(a: float, b: float) -> float:\n",
    "    \"\"\"Multiply a and b.\"\"\"\n",
    "    return a * b\n",
    "\n",
    "@tool\n",
    "def divide(a: float, b: float) -> float:\n",
    "    \"\"\"Divide a and b.\"\"\"\n",
    "    return a / b\n",
    "\n",
    "# and to make it a little more interesting, let's add a currency converter\n",
    "@tool\n",
    "def get_exchange_rate(\n",
    "    currency_from: str = \"USD\",\n",
    "    currency_to: str = \"EUR\",\n",
    "    currency_date: str = \"latest\",\n",
    "):\n",
    "    \"\"\"Retrieves the exchange rate between two currencies on a specified date.\n",
    "\n",
    "    Uses the Frankfurter API (https://api.frankfurter.app/) to obtain\n",
    "    exchange rate data.\n",
    "\n",
    "    Args:\n",
    "        currency_from: The base currency (3-letter currency code).\n",
    "            Defaults to \"USD\" (US Dollar).\n",
    "        currency_to: The target currency (3-letter currency code).\n",
    "            Defaults to \"EUR\" (Euro).\n",
    "        currency_date: The date for which to retrieve the exchange rate.\n",
    "            Defaults to \"latest\" for the most recent exchange rate data.\n",
    "            Can be specified in YYYY-MM-DD format for historical rates.\n",
    "\n",
    "    Returns:\n",
    "        dict: A dictionary containing the exchange rate information.\n",
    "            Example: {\"amount\": 1.0, \"base\": \"USD\", \"date\": \"2023-11-24\",\n",
    "                \"rates\": {\"EUR\": 0.95534}}\n",
    "    \"\"\"\n",
    "    response = requests.get(\n",
    "        f\"https://api.frankfurter.app/{currency_date}\",\n",
    "        params={\"from\": currency_from, \"to\": currency_to},\n",
    "    )\n",
    "    return response.json()\n",
    "\n",
    "\n",
    "tools = [add, subtract, multiply, divide, get_exchange_rate]"
   ]
  },
  {
   "cell_type": "code",
   "execution_count": 5,
   "metadata": {},
   "outputs": [
    {
     "data": {
      "image/png": "[encoded data removed]",
      "text/plain": [
       "<langgraph.graph.state.CompiledStateGraph object at 0x183633890>"
      ]
     },
     "execution_count": 5,
     "metadata": {},
     "output_type": "execute_result"
    }
   ],
   "source": [
    "graph = create_react_agent(chat_model, tools=tools, debug=True)\n",
    "\n",
    "graph"
   ]
  },
  {
   "cell_type": "code",
   "execution_count": 6,
   "metadata": {},
   "outputs": [
    {
     "name": "stdout",
     "output_type": "stream",
     "text": [
      "\u001b[36;1m\u001b[1;3m[-1:checkpoint]\u001b[0m \u001b[1mState at the end of step -1:\n",
      "\u001b[0m{'messages': []}\n",
      "\u001b[36;1m\u001b[1;3m[0:tasks]\u001b[0m \u001b[1mStarting 1 task for step 0:\n",
      "\u001b[0m- \u001b[32;1m\u001b[1;3m__start__\u001b[0m -> {'messages': [('user',\n",
      "               'I have 833 USD and my sister has 38 USD. How much do we have '\n",
      "               'total in euros?')]}\n",
      "\u001b[36;1m\u001b[1;3m[0:writes]\u001b[0m \u001b[1mFinished step 0 with writes to 1 channel:\n",
      "\u001b[0m- \u001b[33;1m\u001b[1;3mmessages\u001b[0m -> [('user',\n",
      "  'I have 833 USD and my sister has 38 USD. How much do we have total in '\n",
      "  'euros?')]\n",
      "\u001b[36;1m\u001b[1;3m[0:checkpoint]\u001b[0m \u001b[1mState at the end of step 0:\n",
      "\u001b[0m{'messages': [HumanMessage(content='I have 833 USD and my sister has 38 USD. How much do we have total in euros?', additional_kwargs={}, response_metadata={}, id='5fa34983-97c6-4120-b9f4-5daef98a7f15')]}\n",
      "\u001b[36;1m\u001b[1;3m[1:tasks]\u001b[0m \u001b[1mStarting 1 task for step 1:\n",
      "\u001b[0m- \u001b[32;1m\u001b[1;3magent\u001b[0m -> {'is_last_step': False,\n",
      " 'messages': [HumanMessage(content='I have 833 USD and my sister has 38 USD. How much do we have total in euros?', additional_kwargs={}, response_metadata={}, id='5fa34983-97c6-4120-b9f4-5daef98a7f15')],\n",
      " 'remaining_steps': 24}\n",
      "\u001b[36;1m\u001b[1;3m[1:writes]\u001b[0m \u001b[1mFinished step 1 with writes to 1 channel:\n",
      "\u001b[0m- \u001b[33;1m\u001b[1;3mmessages\u001b[0m -> [AIMessage(content='', additional_kwargs={'tool_calls': [{'id': 'kjevBnd61', 'type': 'function', 'function': {'name': 'add', 'arguments': '{\"a\": 833, \"b\": 38}'}}, {'id': '7inYUM2Rb', 'type': 'function', 'function': {'name': 'get_exchange_rate', 'arguments': '{\"currency_from\": \"USD\", \"currency_to\": \"EUR\"}'}}]}, response_metadata={'token_usage': {'completion_tokens': 61, 'prompt_tokens': 627, 'total_tokens': 688}, 'model_name': 'mistralai/mistral-large', 'system_fingerprint': '', 'finish_reason': 'tool_calls'}, id='chatcmpl-1094994000fe578f2a5b3dc9c2da6b5a', tool_calls=[{'name': 'add', 'args': {'a': 833, 'b': 38}, 'id': 'kjevBnd61', 'type': 'tool_call'}, {'name': 'get_exchange_rate', 'args': {'currency_from': 'USD', 'currency_to': 'EUR'}, 'id': '7inYUM2Rb', 'type': 'tool_call'}], usage_metadata={'input_tokens': 627, 'output_tokens': 61, 'total_tokens': 688})]\n",
      "\u001b[36;1m\u001b[1;3m[1:checkpoint]\u001b[0m \u001b[1mState at the end of step 1:\n",
      "\u001b[0m{'messages': [HumanMessage(content='I have 833 USD and my sister has 38 USD. How much do we have total in euros?', additional_kwargs={}, response_metadata={}, id='5fa34983-97c6-4120-b9f4-5daef98a7f15'),\n",
      "              AIMessage(content='', additional_kwargs={'tool_calls': [{'id': 'kjevBnd61', 'type': 'function', 'function': {'name': 'add', 'arguments': '{\"a\": 833, \"b\": 38}'}}, {'id': '7inYUM2Rb', 'type': 'function', 'function': {'name': 'get_exchange_rate', 'arguments': '{\"currency_from\": \"USD\", \"currency_to\": \"EUR\"}'}}]}, response_metadata={'token_usage': {'completion_tokens': 61, 'prompt_tokens': 627, 'total_tokens': 688}, 'model_name': 'mistralai/mistral-large', 'system_fingerprint': '', 'finish_reason': 'tool_calls'}, id='chatcmpl-1094994000fe578f2a5b3dc9c2da6b5a', tool_calls=[{'name': 'add', 'args': {'a': 833, 'b': 38}, 'id': 'kjevBnd61', 'type': 'tool_call'}, {'name': 'get_exchange_rate', 'args': {'currency_from': 'USD', 'currency_to': 'EUR'}, 'id': '7inYUM2Rb', 'type': 'tool_call'}], usage_metadata={'input_tokens': 627, 'output_tokens': 61, 'total_tokens': 688})]}\n",
      "\u001b[36;1m\u001b[1;3m[2:tasks]\u001b[0m \u001b[1mStarting 1 task for step 2:\n",
      "\u001b[0m- \u001b[32;1m\u001b[1;3mtools\u001b[0m -> {'is_last_step': False,\n",
      " 'messages': [HumanMessage(content='I have 833 USD and my sister has 38 USD. How much do we have total in euros?', additional_kwargs={}, response_metadata={}, id='5fa34983-97c6-4120-b9f4-5daef98a7f15'),\n",
      "              AIMessage(content='', additional_kwargs={'tool_calls': [{'id': 'kjevBnd61', 'type': 'function', 'function': {'name': 'add', 'arguments': '{\"a\": 833, \"b\": 38}'}}, {'id': '7inYUM2Rb', 'type': 'function', 'function': {'name': 'get_exchange_rate', 'arguments': '{\"currency_from\": \"USD\", \"currency_to\": \"EUR\"}'}}]}, response_metadata={'token_usage': {'completion_tokens': 61, 'prompt_tokens': 627, 'total_tokens': 688}, 'model_name': 'mistralai/mistral-large', 'system_fingerprint': '', 'finish_reason': 'tool_calls'}, id='chatcmpl-1094994000fe578f2a5b3dc9c2da6b5a', tool_calls=[{'name': 'add', 'args': {'a': 833, 'b': 38}, 'id': 'kjevBnd61', 'type': 'tool_call'}, {'name': 'get_exchange_rate', 'args': {'currency_from': 'USD', 'currency_to': 'EUR'}, 'id': '7inYUM2Rb', 'type': 'tool_call'}], usage_metadata={'input_tokens': 627, 'output_tokens': 61, 'total_tokens': 688})],\n",
      " 'remaining_steps': 23}\n",
      "\u001b[36;1m\u001b[1;3m[2:writes]\u001b[0m \u001b[1mFinished step 2 with writes to 1 channel:\n",
      "\u001b[0m- \u001b[33;1m\u001b[1;3mmessages\u001b[0m -> [ToolMessage(content='871.0', name='add', tool_call_id='kjevBnd61'),\n",
      " ToolMessage(content='{\"amount\": 1.0, \"base\": \"USD\", \"date\": \"2025-04-15\", \"rates\": {\"EUR\": 0.88308}}', name='get_exchange_rate', tool_call_id='7inYUM2Rb')]\n",
      "\u001b[36;1m\u001b[1;3m[2:checkpoint]\u001b[0m \u001b[1mState at the end of step 2:\n",
      "\u001b[0m{'messages': [HumanMessage(content='I have 833 USD and my sister has 38 USD. How much do we have total in euros?', additional_kwargs={}, response_metadata={}, id='5fa34983-97c6-4120-b9f4-5daef98a7f15'),\n",
      "              AIMessage(content='', additional_kwargs={'tool_calls': [{'id': 'kjevBnd61', 'type': 'function', 'function': {'name': 'add', 'arguments': '{\"a\": 833, \"b\": 38}'}}, {'id': '7inYUM2Rb', 'type': 'function', 'function': {'name': 'get_exchange_rate', 'arguments': '{\"currency_from\": \"USD\", \"currency_to\": \"EUR\"}'}}]}, response_metadata={'token_usage': {'completion_tokens': 61, 'prompt_tokens': 627, 'total_tokens': 688}, 'model_name': 'mistralai/mistral-large', 'system_fingerprint': '', 'finish_reason': 'tool_calls'}, id='chatcmpl-1094994000fe578f2a5b3dc9c2da6b5a', tool_calls=[{'name': 'add', 'args': {'a': 833, 'b': 38}, 'id': 'kjevBnd61', 'type': 'tool_call'}, {'name': 'get_exchange_rate', 'args': {'currency_from': 'USD', 'currency_to': 'EUR'}, 'id': '7inYUM2Rb', 'type': 'tool_call'}], usage_metadata={'input_tokens': 627, 'output_tokens': 61, 'total_tokens': 688}),\n",
      "              ToolMessage(content='871.0', name='add', id='ffff77e9-1b53-43d3-93b2-0fd06c5e96c2', tool_call_id='kjevBnd61'),\n",
      "              ToolMessage(content='{\"amount\": 1.0, \"base\": \"USD\", \"date\": \"2025-04-15\", \"rates\": {\"EUR\": 0.88308}}', name='get_exchange_rate', id='0d16266c-c1f2-413b-84b5-8cf72c4bc104', tool_call_id='7inYUM2Rb')]}\n",
      "\u001b[36;1m\u001b[1;3m[3:tasks]\u001b[0m \u001b[1mStarting 1 task for step 3:\n",
      "\u001b[0m- \u001b[32;1m\u001b[1;3magent\u001b[0m -> {'is_last_step': False,\n",
      " 'messages': [HumanMessage(content='I have 833 USD and my sister has 38 USD. How much do we have total in euros?', additional_kwargs={}, response_metadata={}, id='5fa34983-97c6-4120-b9f4-5daef98a7f15'),\n",
      "              AIMessage(content='', additional_kwargs={'tool_calls': [{'id': 'kjevBnd61', 'type': 'function', 'function': {'name': 'add', 'arguments': '{\"a\": 833, \"b\": 38}'}}, {'id': '7inYUM2Rb', 'type': 'function', 'function': {'name': 'get_exchange_rate', 'arguments': '{\"currency_from\": \"USD\", \"currency_to\": \"EUR\"}'}}]}, response_metadata={'token_usage': {'completion_tokens': 61, 'prompt_tokens': 627, 'total_tokens': 688}, 'model_name': 'mistralai/mistral-large', 'system_fingerprint': '', 'finish_reason': 'tool_calls'}, id='chatcmpl-1094994000fe578f2a5b3dc9c2da6b5a', tool_calls=[{'name': 'add', 'args': {'a': 833, 'b': 38}, 'id': 'kjevBnd61', 'type': 'tool_call'}, {'name': 'get_exchange_rate', 'args': {'currency_from': 'USD', 'currency_to': 'EUR'}, 'id': '7inYUM2Rb', 'type': 'tool_call'}], usage_metadata={'input_tokens': 627, 'output_tokens': 61, 'total_tokens': 688}),\n",
      "              ToolMessage(content='871.0', name='add', id='ffff77e9-1b53-43d3-93b2-0fd06c5e96c2', tool_call_id='kjevBnd61'),\n",
      "              ToolMessage(content='{\"amount\": 1.0, \"base\": \"USD\", \"date\": \"2025-04-15\", \"rates\": {\"EUR\": 0.88308}}', name='get_exchange_rate', id='0d16266c-c1f2-413b-84b5-8cf72c4bc104', tool_call_id='7inYUM2Rb')],\n",
      " 'remaining_steps': 22}\n",
      "\u001b[36;1m\u001b[1;3m[3:writes]\u001b[0m \u001b[1mFinished step 3 with writes to 1 channel:\n",
      "\u001b[0m- \u001b[33;1m\u001b[1;3mmessages\u001b[0m -> [AIMessage(content=' You two have 770.56 euros.', additional_kwargs={}, response_metadata={'token_usage': {'completion_tokens': 14, 'prompt_tokens': 801, 'total_tokens': 815}, 'model_name': 'mistralai/mistral-large', 'system_fingerprint': '', 'finish_reason': 'stop'}, id='chatcmpl-c725bc1e811c644e23a4db63600ed229', usage_metadata={'input_tokens': 801, 'output_tokens': 14, 'total_tokens': 815})]\n",
      "\u001b[36;1m\u001b[1;3m[3:checkpoint]\u001b[0m \u001b[1mState at the end of step 3:\n",
      "\u001b[0m{'messages': [HumanMessage(content='I have 833 USD and my sister has 38 USD. How much do we have total in euros?', additional_kwargs={}, response_metadata={}, id='5fa34983-97c6-4120-b9f4-5daef98a7f15'),\n",
      "              AIMessage(content='', additional_kwargs={'tool_calls': [{'id': 'kjevBnd61', 'type': 'function', 'function': {'name': 'add', 'arguments': '{\"a\": 833, \"b\": 38}'}}, {'id': '7inYUM2Rb', 'type': 'function', 'function': {'name': 'get_exchange_rate', 'arguments': '{\"currency_from\": \"USD\", \"currency_to\": \"EUR\"}'}}]}, response_metadata={'token_usage': {'completion_tokens': 61, 'prompt_tokens': 627, 'total_tokens': 688}, 'model_name': 'mistralai/mistral-large', 'system_fingerprint': '', 'finish_reason': 'tool_calls'}, id='chatcmpl-1094994000fe578f2a5b3dc9c2da6b5a', tool_calls=[{'name': 'add', 'args': {'a': 833, 'b': 38}, 'id': 'kjevBnd61', 'type': 'tool_call'}, {'name': 'get_exchange_rate', 'args': {'currency_from': 'USD', 'currency_to': 'EUR'}, 'id': '7inYUM2Rb', 'type': 'tool_call'}], usage_metadata={'input_tokens': 627, 'output_tokens': 61, 'total_tokens': 688}),\n",
      "              ToolMessage(content='871.0', name='add', id='ffff77e9-1b53-43d3-93b2-0fd06c5e96c2', tool_call_id='kjevBnd61'),\n",
      "              ToolMessage(content='{\"amount\": 1.0, \"base\": \"USD\", \"date\": \"2025-04-15\", \"rates\": {\"EUR\": 0.88308}}', name='get_exchange_rate', id='0d16266c-c1f2-413b-84b5-8cf72c4bc104', tool_call_id='7inYUM2Rb'),\n",
      "              AIMessage(content=' You two have 770.56 euros.', additional_kwargs={}, response_metadata={'token_usage': {'completion_tokens': 14, 'prompt_tokens': 801, 'total_tokens': 815}, 'model_name': 'mistralai/mistral-large', 'system_fingerprint': '', 'finish_reason': 'stop'}, id='chatcmpl-c725bc1e811c644e23a4db63600ed229', usage_metadata={'input_tokens': 801, 'output_tokens': 14, 'total_tokens': 815})]}\n"
     ]
    }
   ],
   "source": [
    "inputs = {\n",
    "    \"messages\": [\n",
    "        (\n",
    "            \"user\", \"I have 833 USD and my sister has 38 USD. How much do we have total in euros?\"\n",
    "        )\n",
    "    ]\n",
    "}\n",
    "\n",
    "# we set the debug flag to True to print tasks and their results\n",
    "response = graph.invoke(inputs, debug=True)"
   ]
  },
  {
   "cell_type": "code",
   "execution_count": 7,
   "metadata": {},
   "outputs": [
    {
     "data": {
      "text/plain": [
       "{'messages': [HumanMessage(content='I have 833 USD and my sister has 38 USD. How much do we have total in euros?', additional_kwargs={}, response_metadata={}, id='5fa34983-97c6-4120-b9f4-5daef98a7f15'),\n",
       "  AIMessage(content='', additional_kwargs={'tool_calls': [{'id': 'kjevBnd61', 'type': 'function', 'function': {'name': 'add', 'arguments': '{\"a\": 833, \"b\": 38}'}}, {'id': '7inYUM2Rb', 'type': 'function', 'function': {'name': 'get_exchange_rate', 'arguments': '{\"currency_from\": \"USD\", \"currency_to\": \"EUR\"}'}}]}, response_metadata={'token_usage': {'completion_tokens': 61, 'prompt_tokens': 627, 'total_tokens': 688}, 'model_name': 'mistralai/mistral-large', 'system_fingerprint': '', 'finish_reason': 'tool_calls'}, id='chatcmpl-1094994000fe578f2a5b3dc9c2da6b5a', tool_calls=[{'name': 'add', 'args': {'a': 833, 'b': 38}, 'id': 'kjevBnd61', 'type': 'tool_call'}, {'name': 'get_exchange_rate', 'args': {'currency_from': 'USD', 'currency_to': 'EUR'}, 'id': '7inYUM2Rb', 'type': 'tool_call'}], usage_metadata={'input_tokens': 627, 'output_tokens': 61, 'total_tokens': 688}),\n",
       "  ToolMessage(content='871.0', name='add', id='ffff77e9-1b53-43d3-93b2-0fd06c5e96c2', tool_call_id='kjevBnd61'),\n",
       "  ToolMessage(content='{\"amount\": 1.0, \"base\": \"USD\", \"date\": \"2025-04-15\", \"rates\": {\"EUR\": 0.88308}}', name='get_exchange_rate', id='0d16266c-c1f2-413b-84b5-8cf72c4bc104', tool_call_id='7inYUM2Rb'),\n",
       "  AIMessage(content=' You two have 770.56 euros.', additional_kwargs={}, response_metadata={'token_usage': {'completion_tokens': 14, 'prompt_tokens': 801, 'total_tokens': 815}, 'model_name': 'mistralai/mistral-large', 'system_fingerprint': '', 'finish_reason': 'stop'}, id='chatcmpl-c725bc1e811c644e23a4db63600ed229', usage_metadata={'input_tokens': 801, 'output_tokens': 14, 'total_tokens': 815})]}"
      ]
     },
     "execution_count": 7,
     "metadata": {},
     "output_type": "execute_result"
    }
   ],
   "source": [
    "response"
   ]
  },
  {
   "cell_type": "markdown",
   "metadata": {},
   "source": [
    "### Adding RAG"
   ]
  },
  {
   "cell_type": "code",
   "execution_count": 8,
   "metadata": {},
   "outputs": [],
   "source": [
    "embed_params = {}\n",
    "\n",
    "watsonx_embedding = WatsonxEmbeddings(\n",
    "    model_id=\"ibm/granite-embedding-278m-multilingual\",\n",
    "    url=WX_API_URL,\n",
    "    project_id=WX_PROJECT_ID,\n",
    "    apikey=WX_API_KEY,\n",
    "    params=embed_params,\n",
    ")"
   ]
  },
  {
   "cell_type": "code",
   "execution_count": 9,
   "metadata": {},
   "outputs": [
    {
     "data": {
      "text/plain": [
       "{'ids': ['7d0c5d49-be5f-4435-8f95-b8d4f66d9e1a'],\n",
       " 'embeddings': None,\n",
       " 'documents': ['[About MadeUpCompany]: \\nMadeUpCompany is a pioneering technology firm founded in 2010, specializing in cloud computing, data analytics, and machine learning. Headquartered in San Francisco, California, we have a global presence with satellite offices in New York, London, and Tokyo. Our mission is to empower businesses and individuals with cutting-edge technology that enhances efficiency, scalability, and innovation.  \\nWith a diverse team of experts from various industries—including AI research, cybersecurity, and enterprise software development—we push the boundaries of what’s possible. Our commitment to continuous improvement, security, and customer success has earned us recognition as a leader in the tech space.'],\n",
       " 'uris': None,\n",
       " 'data': None,\n",
       " 'metadatas': [{'Header 1': 'About MadeUpCompany'}],\n",
       " 'included': [<IncludeEnum.documents: 'documents'>,\n",
       "  <IncludeEnum.metadatas: 'metadatas'>]}"
      ]
     },
     "execution_count": 9,
     "metadata": {},
     "output_type": "execute_result"
    }
   ],
   "source": [
    "vectordb = Chroma(collection_name=\"my_collection\", persist_directory=\"my_vector_db\", embedding_function=watsonx_embedding)\n",
    "\n",
    "vectordb.get(limit=1)"
   ]
  },
  {
   "cell_type": "code",
   "execution_count": null,
   "metadata": {},
   "outputs": [],
   "source": [
    "retriever_tool = create_retriever_tool(\n",
    "    vectordb.as_retriever(\n",
    "        search_type=\"similarity\",\n",
    "        search_kwargs={\n",
    "            \"k\": 5,\n",
    "        }\n",
    "    ),\n",
    "    \"retrieve_company_information\",\n",
    "    \"Search and return information about MadeUpCompany\",\n",
    ")\n",
    "\n",
    "tools_for_agent = [get_exchange_rate, retriever_tool]"
   ]
  },
  {
   "cell_type": "code",
   "execution_count": null,
   "metadata": {},
   "outputs": [],
   "source": [
    "# Use the vectorstore as a retriever\n",
    "retriever = vectordb.as_retriever(\n",
    "    search_type=\"similarity\",\n",
    "    search_kwargs={\n",
    "        \"k\": 5,\n",
    "    }\n",
    ")\n",
    "\n",
    "retrieved_documents = retriever.invoke(\"Do you have a 30-day money-back guarantee?\")"
   ]
  },
  {
   "cell_type": "code",
   "execution_count": 12,
   "metadata": {},
   "outputs": [
    {
     "data": {
      "text/plain": [
       "[Document(id='aec650f1-8773-47f6-bc12-ce85306f66fc', metadata={'Header 1': 'About MadeUpCompany', 'Header 2': 'Refund and Cancellation Policy'}, page_content=\"[About MadeUpCompany/Refund and Cancellation Policy]: \\nWe stand by the quality of our services and offer a 30-day money-back guarantee on all plans.  \\nIf you're not satisfied, you can request a full refund within the first 30 days.\\nAfter 30 days, you may cancel your subscription at any time, and we’ll issue a prorated refund based on your remaining subscription period.\\nEnterprise contracts include a flexible exit clause, ensuring fair terms for long-term clients.\\nUpcoming Features\"),\n",
       " Document(id='390ce3e4-1b00-448f-a8ed-26134e566a00', metadata={'Header 1': 'About MadeUpCompany', 'Header 2': 'Refund and Cancellation Policy'}, page_content=\"[About MadeUpCompany/Refund and Cancellation Policy]: \\nWe stand by the quality of our services and offer a 30-day money-back guarantee on all plans.  \\nIf you're not satisfied, you can request a full refund within the first 30 days.\\nAfter 30 days, you may cancel your subscription at any time, and we’ll issue a prorated refund based on your remaining subscription period.\\nEnterprise contracts include a flexible exit clause, ensuring fair terms for long-term clients.\\nUpcoming Features\"),\n",
       " Document(id='580bcf99-d9c6-4c65-9b5a-0e54b3dad005', metadata={'Header 1': 'About MadeUpCompany', 'Header 2': 'Pricing', 'Header 3': 'CloudMate Plans'}, page_content='[About MadeUpCompany/Pricing/CloudMate Plans]: \\nOur secure and scalable cloud storage service, CloudMate, is available in the following plans:\\n- Basic: $9.99/month – 100GB storage, essential security features\\n- Professional: $29.99/month – 1TB storage, enhanced security, priority support\\n- Enterprise: Custom pricing – Unlimited storage, advanced compliance tools, dedicated account manager')]"
      ]
     },
     "execution_count": 12,
     "metadata": {},
     "output_type": "execute_result"
    }
   ],
   "source": [
    "retrieved_documents"
   ]
  },
  {
   "cell_type": "code",
   "execution_count": 13,
   "metadata": {},
   "outputs": [],
   "source": [
    "graph = create_react_agent(chat_model, tools=tools_for_agent, debug=True)"
   ]
  },
  {
   "cell_type": "code",
   "execution_count": 14,
   "metadata": {},
   "outputs": [
    {
     "name": "stdout",
     "output_type": "stream",
     "text": [
      "\u001b[36;1m\u001b[1;3m[-1:checkpoint]\u001b[0m \u001b[1mState at the end of step -1:\n",
      "\u001b[0m{'messages': []}\n",
      "\u001b[36;1m\u001b[1;3m[0:tasks]\u001b[0m \u001b[1mStarting 1 task for step 0:\n",
      "\u001b[0m- \u001b[32;1m\u001b[1;3m__start__\u001b[0m -> {'messages': [('user',\n",
      "               'What is CloudMate from MadeUpCompany? Keep it short and '\n",
      "               'simple.')]}\n",
      "\u001b[36;1m\u001b[1;3m[0:writes]\u001b[0m \u001b[1mFinished step 0 with writes to 1 channel:\n",
      "\u001b[0m- \u001b[33;1m\u001b[1;3mmessages\u001b[0m -> [('user', 'What is CloudMate from MadeUpCompany? Keep it short and simple.')]\n",
      "\u001b[36;1m\u001b[1;3m[0:checkpoint]\u001b[0m \u001b[1mState at the end of step 0:\n",
      "\u001b[0m{'messages': [HumanMessage(content='What is CloudMate from MadeUpCompany? Keep it short and simple.', additional_kwargs={}, response_metadata={}, id='f7feb152-19c3-415e-af50-f80ffeb68394')]}\n",
      "\u001b[36;1m\u001b[1;3m[1:tasks]\u001b[0m \u001b[1mStarting 1 task for step 1:\n",
      "\u001b[0m- \u001b[32;1m\u001b[1;3magent\u001b[0m -> {'is_last_step': False,\n",
      " 'messages': [HumanMessage(content='What is CloudMate from MadeUpCompany? Keep it short and simple.', additional_kwargs={}, response_metadata={}, id='f7feb152-19c3-415e-af50-f80ffeb68394')],\n",
      " 'remaining_steps': 24}\n",
      "\u001b[36;1m\u001b[1;3m[1:writes]\u001b[0m \u001b[1mFinished step 1 with writes to 1 channel:\n",
      "\u001b[0m- \u001b[33;1m\u001b[1;3mmessages\u001b[0m -> [AIMessage(content='', additional_kwargs={'tool_calls': [{'id': '1q0SsGpEq', 'type': 'function', 'function': {'name': 'retrieve_company_information', 'arguments': '{\"query\": \"What is CloudMate from MadeUpCompany? Keep it short and simple.\"}'}}]}, response_metadata={'token_usage': {'completion_tokens': 39, 'prompt_tokens': 422, 'total_tokens': 461}, 'model_name': 'mistralai/mistral-large', 'system_fingerprint': '', 'finish_reason': 'tool_calls'}, id='chatcmpl-3b946136f0ad5261f5e7d34ab9df368a', tool_calls=[{'name': 'retrieve_company_information', 'args': {'query': 'What is CloudMate from MadeUpCompany? Keep it short and simple.'}, 'id': '1q0SsGpEq', 'type': 'tool_call'}], usage_metadata={'input_tokens': 422, 'output_tokens': 39, 'total_tokens': 461})]\n",
      "\u001b[36;1m\u001b[1;3m[1:checkpoint]\u001b[0m \u001b[1mState at the end of step 1:\n",
      "\u001b[0m{'messages': [HumanMessage(content='What is CloudMate from MadeUpCompany? Keep it short and simple.', additional_kwargs={}, response_metadata={}, id='f7feb152-19c3-415e-af50-f80ffeb68394'),\n",
      "              AIMessage(content='', additional_kwargs={'tool_calls': [{'id': '1q0SsGpEq', 'type': 'function', 'function': {'name': 'retrieve_company_information', 'arguments': '{\"query\": \"What is CloudMate from MadeUpCompany? Keep it short and simple.\"}'}}]}, response_metadata={'token_usage': {'completion_tokens': 39, 'prompt_tokens': 422, 'total_tokens': 461}, 'model_name': 'mistralai/mistral-large', 'system_fingerprint': '', 'finish_reason': 'tool_calls'}, id='chatcmpl-3b946136f0ad5261f5e7d34ab9df368a', tool_calls=[{'name': 'retrieve_company_information', 'args': {'query': 'What is CloudMate from MadeUpCompany? Keep it short and simple.'}, 'id': '1q0SsGpEq', 'type': 'tool_call'}], usage_metadata={'input_tokens': 422, 'output_tokens': 39, 'total_tokens': 461})]}\n",
      "\u001b[36;1m\u001b[1;3m[2:tasks]\u001b[0m \u001b[1mStarting 1 task for step 2:\n",
      "\u001b[0m- \u001b[32;1m\u001b[1;3mtools\u001b[0m -> {'is_last_step': False,\n",
      " 'messages': [HumanMessage(content='What is CloudMate from MadeUpCompany? Keep it short and simple.', additional_kwargs={}, response_metadata={}, id='f7feb152-19c3-415e-af50-f80ffeb68394'),\n",
      "              AIMessage(content='', additional_kwargs={'tool_calls': [{'id': '1q0SsGpEq', 'type': 'function', 'function': {'name': 'retrieve_company_information', 'arguments': '{\"query\": \"What is CloudMate from MadeUpCompany? Keep it short and simple.\"}'}}]}, response_metadata={'token_usage': {'completion_tokens': 39, 'prompt_tokens': 422, 'total_tokens': 461}, 'model_name': 'mistralai/mistral-large', 'system_fingerprint': '', 'finish_reason': 'tool_calls'}, id='chatcmpl-3b946136f0ad5261f5e7d34ab9df368a', tool_calls=[{'name': 'retrieve_company_information', 'args': {'query': 'What is CloudMate from MadeUpCompany? Keep it short and simple.'}, 'id': '1q0SsGpEq', 'type': 'tool_call'}], usage_metadata={'input_tokens': 422, 'output_tokens': 39, 'total_tokens': 461})],\n",
      " 'remaining_steps': 23}\n",
      "\u001b[36;1m\u001b[1;3m[2:writes]\u001b[0m \u001b[1mFinished step 2 with writes to 1 channel:\n",
      "\u001b[0m- \u001b[33;1m\u001b[1;3mmessages\u001b[0m -> [ToolMessage(content='[About MadeUpCompany/Products and Services/CloudMate – Secure and Scalable Cloud Storage]: \\nCloudMate is our flagship cloud storage solution, designed for businesses of all sizes. Features include:\\n- ✅ Seamless data migration with automated backups\\n- ✅ Military-grade encryption and multi-factor authentication\\n- ✅ Role-based access control for enterprise security\\n- ✅ AI-powered file organization and search capabilities\\n\\n[About MadeUpCompany/Products and Services/CloudMate – Secure and Scalable Cloud Storage]: \\nCloudMate is our flagship cloud storage solution, designed for businesses of all sizes. Features include:\\n- ✅ Seamless data migration with automated backups\\n- ✅ Military-grade encryption and multi-factor authentication\\n- ✅ Role-based access control for enterprise security\\n- ✅ AI-powered file organization and search capabilities\\n\\n[About MadeUpCompany/Pricing/CloudMate Plans]: \\nOur secure and scalable cloud storage service, CloudMate, is available in the following plans:\\n- Basic: $9.99/month – 100GB storage, essential security features\\n- Professional: $29.99/month – 1TB storage, enhanced security, priority support\\n- Enterprise: Custom pricing – Unlimited storage, advanced compliance tools, dedicated account manager', name='retrieve_company_information', tool_call_id='1q0SsGpEq')]\n",
      "\u001b[36;1m\u001b[1;3m[2:checkpoint]\u001b[0m \u001b[1mState at the end of step 2:\n",
      "\u001b[0m{'messages': [HumanMessage(content='What is CloudMate from MadeUpCompany? Keep it short and simple.', additional_kwargs={}, response_metadata={}, id='f7feb152-19c3-415e-af50-f80ffeb68394'),\n",
      "              AIMessage(content='', additional_kwargs={'tool_calls': [{'id': '1q0SsGpEq', 'type': 'function', 'function': {'name': 'retrieve_company_information', 'arguments': '{\"query\": \"What is CloudMate from MadeUpCompany? Keep it short and simple.\"}'}}]}, response_metadata={'token_usage': {'completion_tokens': 39, 'prompt_tokens': 422, 'total_tokens': 461}, 'model_name': 'mistralai/mistral-large', 'system_fingerprint': '', 'finish_reason': 'tool_calls'}, id='chatcmpl-3b946136f0ad5261f5e7d34ab9df368a', tool_calls=[{'name': 'retrieve_company_information', 'args': {'query': 'What is CloudMate from MadeUpCompany? Keep it short and simple.'}, 'id': '1q0SsGpEq', 'type': 'tool_call'}], usage_metadata={'input_tokens': 422, 'output_tokens': 39, 'total_tokens': 461}),\n",
      "              ToolMessage(content='[About MadeUpCompany/Products and Services/CloudMate – Secure and Scalable Cloud Storage]: \\nCloudMate is our flagship cloud storage solution, designed for businesses of all sizes. Features include:\\n- ✅ Seamless data migration with automated backups\\n- ✅ Military-grade encryption and multi-factor authentication\\n- ✅ Role-based access control for enterprise security\\n- ✅ AI-powered file organization and search capabilities\\n\\n[About MadeUpCompany/Products and Services/CloudMate – Secure and Scalable Cloud Storage]: \\nCloudMate is our flagship cloud storage solution, designed for businesses of all sizes. Features include:\\n- ✅ Seamless data migration with automated backups\\n- ✅ Military-grade encryption and multi-factor authentication\\n- ✅ Role-based access control for enterprise security\\n- ✅ AI-powered file organization and search capabilities\\n\\n[About MadeUpCompany/Pricing/CloudMate Plans]: \\nOur secure and scalable cloud storage service, CloudMate, is available in the following plans:\\n- Basic: $9.99/month – 100GB storage, essential security features\\n- Professional: $29.99/month – 1TB storage, enhanced security, priority support\\n- Enterprise: Custom pricing – Unlimited storage, advanced compliance tools, dedicated account manager', name='retrieve_company_information', id='5e41875d-642d-4863-9565-64fad6588816', tool_call_id='1q0SsGpEq')]}\n",
      "\u001b[36;1m\u001b[1;3m[3:tasks]\u001b[0m \u001b[1mStarting 1 task for step 3:\n",
      "\u001b[0m- \u001b[32;1m\u001b[1;3magent\u001b[0m -> {'is_last_step': False,\n",
      " 'messages': [HumanMessage(content='What is CloudMate from MadeUpCompany? Keep it short and simple.', additional_kwargs={}, response_metadata={}, id='f7feb152-19c3-415e-af50-f80ffeb68394'),\n",
      "              AIMessage(content='', additional_kwargs={'tool_calls': [{'id': '1q0SsGpEq', 'type': 'function', 'function': {'name': 'retrieve_company_information', 'arguments': '{\"query\": \"What is CloudMate from MadeUpCompany? Keep it short and simple.\"}'}}]}, response_metadata={'token_usage': {'completion_tokens': 39, 'prompt_tokens': 422, 'total_tokens': 461}, 'model_name': 'mistralai/mistral-large', 'system_fingerprint': '', 'finish_reason': 'tool_calls'}, id='chatcmpl-3b946136f0ad5261f5e7d34ab9df368a', tool_calls=[{'name': 'retrieve_company_information', 'args': {'query': 'What is CloudMate from MadeUpCompany? Keep it short and simple.'}, 'id': '1q0SsGpEq', 'type': 'tool_call'}], usage_metadata={'input_tokens': 422, 'output_tokens': 39, 'total_tokens': 461}),\n",
      "              ToolMessage(content='[About MadeUpCompany/Products and Services/CloudMate – Secure and Scalable Cloud Storage]: \\nCloudMate is our flagship cloud storage solution, designed for businesses of all sizes. Features include:\\n- ✅ Seamless data migration with automated backups\\n- ✅ Military-grade encryption and multi-factor authentication\\n- ✅ Role-based access control for enterprise security\\n- ✅ AI-powered file organization and search capabilities\\n\\n[About MadeUpCompany/Products and Services/CloudMate – Secure and Scalable Cloud Storage]: \\nCloudMate is our flagship cloud storage solution, designed for businesses of all sizes. Features include:\\n- ✅ Seamless data migration with automated backups\\n- ✅ Military-grade encryption and multi-factor authentication\\n- ✅ Role-based access control for enterprise security\\n- ✅ AI-powered file organization and search capabilities\\n\\n[About MadeUpCompany/Pricing/CloudMate Plans]: \\nOur secure and scalable cloud storage service, CloudMate, is available in the following plans:\\n- Basic: $9.99/month – 100GB storage, essential security features\\n- Professional: $29.99/month – 1TB storage, enhanced security, priority support\\n- Enterprise: Custom pricing – Unlimited storage, advanced compliance tools, dedicated account manager', name='retrieve_company_information', id='5e41875d-642d-4863-9565-64fad6588816', tool_call_id='1q0SsGpEq')],\n",
      " 'remaining_steps': 22}\n",
      "\u001b[36;1m\u001b[1;3m[3:writes]\u001b[0m \u001b[1mFinished step 3 with writes to 1 channel:\n",
      "\u001b[0m- \u001b[33;1m\u001b[1;3mmessages\u001b[0m -> [AIMessage(content=' CloudMate is a secure and scalable cloud storage solution designed for businesses of all sizes. It features seamless data migration with automated backups, military-grade encryption, and AI-powered file organization. Pricing plans include Basic at $9.99/month for 100GB, Professional at $29.99/month for 1TB, and Enterprise with custom pricing for unlimited storage.', additional_kwargs={}, response_metadata={'token_usage': {'completion_tokens': 90, 'prompt_tokens': 793, 'total_tokens': 883}, 'model_name': 'mistralai/mistral-large', 'system_fingerprint': '', 'finish_reason': 'stop'}, id='chatcmpl-0e1a049c3a0fde741a97d854f73f1c82', usage_metadata={'input_tokens': 793, 'output_tokens': 90, 'total_tokens': 883})]\n",
      "\u001b[36;1m\u001b[1;3m[3:checkpoint]\u001b[0m \u001b[1mState at the end of step 3:\n",
      "\u001b[0m{'messages': [HumanMessage(content='What is CloudMate from MadeUpCompany? Keep it short and simple.', additional_kwargs={}, response_metadata={}, id='f7feb152-19c3-415e-af50-f80ffeb68394'),\n",
      "              AIMessage(content='', additional_kwargs={'tool_calls': [{'id': '1q0SsGpEq', 'type': 'function', 'function': {'name': 'retrieve_company_information', 'arguments': '{\"query\": \"What is CloudMate from MadeUpCompany? Keep it short and simple.\"}'}}]}, response_metadata={'token_usage': {'completion_tokens': 39, 'prompt_tokens': 422, 'total_tokens': 461}, 'model_name': 'mistralai/mistral-large', 'system_fingerprint': '', 'finish_reason': 'tool_calls'}, id='chatcmpl-3b946136f0ad5261f5e7d34ab9df368a', tool_calls=[{'name': 'retrieve_company_information', 'args': {'query': 'What is CloudMate from MadeUpCompany? Keep it short and simple.'}, 'id': '1q0SsGpEq', 'type': 'tool_call'}], usage_metadata={'input_tokens': 422, 'output_tokens': 39, 'total_tokens': 461}),\n",
      "              ToolMessage(content='[About MadeUpCompany/Products and Services/CloudMate – Secure and Scalable Cloud Storage]: \\nCloudMate is our flagship cloud storage solution, designed for businesses of all sizes. Features include:\\n- ✅ Seamless data migration with automated backups\\n- ✅ Military-grade encryption and multi-factor authentication\\n- ✅ Role-based access control for enterprise security\\n- ✅ AI-powered file organization and search capabilities\\n\\n[About MadeUpCompany/Products and Services/CloudMate – Secure and Scalable Cloud Storage]: \\nCloudMate is our flagship cloud storage solution, designed for businesses of all sizes. Features include:\\n- ✅ Seamless data migration with automated backups\\n- ✅ Military-grade encryption and multi-factor authentication\\n- ✅ Role-based access control for enterprise security\\n- ✅ AI-powered file organization and search capabilities\\n\\n[About MadeUpCompany/Pricing/CloudMate Plans]: \\nOur secure and scalable cloud storage service, CloudMate, is available in the following plans:\\n- Basic: $9.99/month – 100GB storage, essential security features\\n- Professional: $29.99/month – 1TB storage, enhanced security, priority support\\n- Enterprise: Custom pricing – Unlimited storage, advanced compliance tools, dedicated account manager', name='retrieve_company_information', id='5e41875d-642d-4863-9565-64fad6588816', tool_call_id='1q0SsGpEq'),\n",
      "              AIMessage(content=' CloudMate is a secure and scalable cloud storage solution designed for businesses of all sizes. It features seamless data migration with automated backups, military-grade encryption, and AI-powered file organization. Pricing plans include Basic at $9.99/month for 100GB, Professional at $29.99/month for 1TB, and Enterprise with custom pricing for unlimited storage.', additional_kwargs={}, response_metadata={'token_usage': {'completion_tokens': 90, 'prompt_tokens': 793, 'total_tokens': 883}, 'model_name': 'mistralai/mistral-large', 'system_fingerprint': '', 'finish_reason': 'stop'}, id='chatcmpl-0e1a049c3a0fde741a97d854f73f1c82', usage_metadata={'input_tokens': 793, 'output_tokens': 90, 'total_tokens': 883})]}\n"
     ]
    }
   ],
   "source": [
    "response = graph.invoke(\n",
    "    \n",
    "    {\n",
    "        \"messages\": [\n",
    "            (\n",
    "                \"user\", \"What is CloudMate from MadeUpCompany? Keep it short and simple.\"\n",
    "            )\n",
    "        ],\n",
    "    },\n",
    "    debug=True,\n",
    "    \n",
    ")"
   ]
  },
  {
   "cell_type": "code",
   "execution_count": 15,
   "metadata": {},
   "outputs": [
    {
     "data": {
      "text/plain": [
       "' CloudMate is a secure and scalable cloud storage solution designed for businesses of all sizes. It features seamless data migration with automated backups, military-grade encryption, and AI-powered file organization. Pricing plans include Basic at $9.99/month for 100GB, Professional at $29.99/month for 1TB, and Enterprise with custom pricing for unlimited storage.'"
      ]
     },
     "execution_count": 15,
     "metadata": {},
     "output_type": "execute_result"
    }
   ],
   "source": [
    "response[\"messages\"][-1].content"
   ]
  },
  {
   "cell_type": "code",
   "execution_count": 16,
   "metadata": {},
   "outputs": [
    {
     "name": "stdout",
     "output_type": "stream",
     "text": [
      "\u001b[36;1m\u001b[1;3m[-1:checkpoint]\u001b[0m \u001b[1mState at the end of step -1:\n",
      "\u001b[0m{'messages': []}\n",
      "\u001b[36;1m\u001b[1;3m[0:tasks]\u001b[0m \u001b[1mStarting 1 task for step 0:\n",
      "\u001b[0m- \u001b[32;1m\u001b[1;3m__start__\u001b[0m -> {'messages': [('user',\n",
      "               'What is the price of CloudMate Professional? Find the price '\n",
      "               'first and then convert it to euros.')]}\n",
      "\u001b[36;1m\u001b[1;3m[0:writes]\u001b[0m \u001b[1mFinished step 0 with writes to 1 channel:\n",
      "\u001b[0m- \u001b[33;1m\u001b[1;3mmessages\u001b[0m -> [('user',\n",
      "  'What is the price of CloudMate Professional? Find the price first and then '\n",
      "  'convert it to euros.')]\n",
      "\u001b[36;1m\u001b[1;3m[0:checkpoint]\u001b[0m \u001b[1mState at the end of step 0:\n",
      "\u001b[0m{'messages': [HumanMessage(content='What is the price of CloudMate Professional? Find the price first and then convert it to euros.', additional_kwargs={}, response_metadata={}, id='1c845568-7baf-4b52-880e-5170c2242d9f')]}\n",
      "\u001b[36;1m\u001b[1;3m[1:tasks]\u001b[0m \u001b[1mStarting 1 task for step 1:\n",
      "\u001b[0m- \u001b[32;1m\u001b[1;3magent\u001b[0m -> {'is_last_step': False,\n",
      " 'messages': [HumanMessage(content='What is the price of CloudMate Professional? Find the price first and then convert it to euros.', additional_kwargs={}, response_metadata={}, id='1c845568-7baf-4b52-880e-5170c2242d9f')],\n",
      " 'remaining_steps': 24}\n",
      "\u001b[36;1m\u001b[1;3m[1:writes]\u001b[0m \u001b[1mFinished step 1 with writes to 1 channel:\n",
      "\u001b[0m- \u001b[33;1m\u001b[1;3mmessages\u001b[0m -> [AIMessage(content='', additional_kwargs={'tool_calls': [{'id': 'XipC0Pxjz', 'type': 'function', 'function': {'name': 'retrieve_company_information', 'arguments': '{\"query\": \"cloudmate professional price\"}'}}]}, response_metadata={'token_usage': {'completion_tokens': 28, 'prompt_tokens': 428, 'total_tokens': 456}, 'model_name': 'mistralai/mistral-large', 'system_fingerprint': '', 'finish_reason': 'tool_calls'}, id='chatcmpl-47de5d120df51014e08de5c63a8f8444', tool_calls=[{'name': 'retrieve_company_information', 'args': {'query': 'cloudmate professional price'}, 'id': 'XipC0Pxjz', 'type': 'tool_call'}], usage_metadata={'input_tokens': 428, 'output_tokens': 28, 'total_tokens': 456})]\n",
      "\u001b[36;1m\u001b[1;3m[1:checkpoint]\u001b[0m \u001b[1mState at the end of step 1:\n",
      "\u001b[0m{'messages': [HumanMessage(content='What is the price of CloudMate Professional? Find the price first and then convert it to euros.', additional_kwargs={}, response_metadata={}, id='1c845568-7baf-4b52-880e-5170c2242d9f'),\n",
      "              AIMessage(content='', additional_kwargs={'tool_calls': [{'id': 'XipC0Pxjz', 'type': 'function', 'function': {'name': 'retrieve_company_information', 'arguments': '{\"query\": \"cloudmate professional price\"}'}}]}, response_metadata={'token_usage': {'completion_tokens': 28, 'prompt_tokens': 428, 'total_tokens': 456}, 'model_name': 'mistralai/mistral-large', 'system_fingerprint': '', 'finish_reason': 'tool_calls'}, id='chatcmpl-47de5d120df51014e08de5c63a8f8444', tool_calls=[{'name': 'retrieve_company_information', 'args': {'query': 'cloudmate professional price'}, 'id': 'XipC0Pxjz', 'type': 'tool_call'}], usage_metadata={'input_tokens': 428, 'output_tokens': 28, 'total_tokens': 456})]}\n",
      "\u001b[36;1m\u001b[1;3m[2:tasks]\u001b[0m \u001b[1mStarting 1 task for step 2:\n",
      "\u001b[0m- \u001b[32;1m\u001b[1;3mtools\u001b[0m -> {'is_last_step': False,\n",
      " 'messages': [HumanMessage(content='What is the price of CloudMate Professional? Find the price first and then convert it to euros.', additional_kwargs={}, response_metadata={}, id='1c845568-7baf-4b52-880e-5170c2242d9f'),\n",
      "              AIMessage(content='', additional_kwargs={'tool_calls': [{'id': 'XipC0Pxjz', 'type': 'function', 'function': {'name': 'retrieve_company_information', 'arguments': '{\"query\": \"cloudmate professional price\"}'}}]}, response_metadata={'token_usage': {'completion_tokens': 28, 'prompt_tokens': 428, 'total_tokens': 456}, 'model_name': 'mistralai/mistral-large', 'system_fingerprint': '', 'finish_reason': 'tool_calls'}, id='chatcmpl-47de5d120df51014e08de5c63a8f8444', tool_calls=[{'name': 'retrieve_company_information', 'args': {'query': 'cloudmate professional price'}, 'id': 'XipC0Pxjz', 'type': 'tool_call'}], usage_metadata={'input_tokens': 428, 'output_tokens': 28, 'total_tokens': 456})],\n",
      " 'remaining_steps': 23}\n",
      "\u001b[36;1m\u001b[1;3m[2:writes]\u001b[0m \u001b[1mFinished step 2 with writes to 1 channel:\n",
      "\u001b[0m- \u001b[33;1m\u001b[1;3mmessages\u001b[0m -> [ToolMessage(content='[About MadeUpCompany/Pricing/CloudMate Plans]: \\nOur secure and scalable cloud storage service, CloudMate, is available in the following plans:\\n- Basic: $9.99/month – 100GB storage, essential security features\\n- Professional: $29.99/month – 1TB storage, enhanced security, priority support\\n- Enterprise: Custom pricing – Unlimited storage, advanced compliance tools, dedicated account manager\\n\\n[About MadeUpCompany/Pricing/CloudMate Plans]: \\nOur secure and scalable cloud storage service, CloudMate, is available in the following plans:\\n- Basic: $9.99/month – 100GB storage, essential security features\\n- Professional: $29.99/month – 1TB storage, enhanced security, priority support\\n- Enterprise: Custom pricing – Unlimited storage, advanced compliance tools, dedicated account manager\\n\\n[About MadeUpCompany/Products and Services/CloudMate – Secure and Scalable Cloud Storage]: \\nCloudMate is our flagship cloud storage solution, designed for businesses of all sizes. Features include:\\n- ✅ Seamless data migration with automated backups\\n- ✅ Military-grade encryption and multi-factor authentication\\n- ✅ Role-based access control for enterprise security\\n- ✅ AI-powered file organization and search capabilities', name='retrieve_company_information', tool_call_id='XipC0Pxjz')]\n",
      "\u001b[36;1m\u001b[1;3m[2:checkpoint]\u001b[0m \u001b[1mState at the end of step 2:\n",
      "\u001b[0m{'messages': [HumanMessage(content='What is the price of CloudMate Professional? Find the price first and then convert it to euros.', additional_kwargs={}, response_metadata={}, id='1c845568-7baf-4b52-880e-5170c2242d9f'),\n",
      "              AIMessage(content='', additional_kwargs={'tool_calls': [{'id': 'XipC0Pxjz', 'type': 'function', 'function': {'name': 'retrieve_company_information', 'arguments': '{\"query\": \"cloudmate professional price\"}'}}]}, response_metadata={'token_usage': {'completion_tokens': 28, 'prompt_tokens': 428, 'total_tokens': 456}, 'model_name': 'mistralai/mistral-large', 'system_fingerprint': '', 'finish_reason': 'tool_calls'}, id='chatcmpl-47de5d120df51014e08de5c63a8f8444', tool_calls=[{'name': 'retrieve_company_information', 'args': {'query': 'cloudmate professional price'}, 'id': 'XipC0Pxjz', 'type': 'tool_call'}], usage_metadata={'input_tokens': 428, 'output_tokens': 28, 'total_tokens': 456}),\n",
      "              ToolMessage(content='[About MadeUpCompany/Pricing/CloudMate Plans]: \\nOur secure and scalable cloud storage service, CloudMate, is available in the following plans:\\n- Basic: $9.99/month – 100GB storage, essential security features\\n- Professional: $29.99/month – 1TB storage, enhanced security, priority support\\n- Enterprise: Custom pricing – Unlimited storage, advanced compliance tools, dedicated account manager\\n\\n[About MadeUpCompany/Pricing/CloudMate Plans]: \\nOur secure and scalable cloud storage service, CloudMate, is available in the following plans:\\n- Basic: $9.99/month – 100GB storage, essential security features\\n- Professional: $29.99/month – 1TB storage, enhanced security, priority support\\n- Enterprise: Custom pricing – Unlimited storage, advanced compliance tools, dedicated account manager\\n\\n[About MadeUpCompany/Products and Services/CloudMate – Secure and Scalable Cloud Storage]: \\nCloudMate is our flagship cloud storage solution, designed for businesses of all sizes. Features include:\\n- ✅ Seamless data migration with automated backups\\n- ✅ Military-grade encryption and multi-factor authentication\\n- ✅ Role-based access control for enterprise security\\n- ✅ AI-powered file organization and search capabilities', name='retrieve_company_information', id='35550276-35f6-4ef7-927c-57dbea20988d', tool_call_id='XipC0Pxjz')]}\n",
      "\u001b[36;1m\u001b[1;3m[3:tasks]\u001b[0m \u001b[1mStarting 1 task for step 3:\n",
      "\u001b[0m- \u001b[32;1m\u001b[1;3magent\u001b[0m -> {'is_last_step': False,\n",
      " 'messages': [HumanMessage(content='What is the price of CloudMate Professional? Find the price first and then convert it to euros.', additional_kwargs={}, response_metadata={}, id='1c845568-7baf-4b52-880e-5170c2242d9f'),\n",
      "              AIMessage(content='', additional_kwargs={'tool_calls': [{'id': 'XipC0Pxjz', 'type': 'function', 'function': {'name': 'retrieve_company_information', 'arguments': '{\"query\": \"cloudmate professional price\"}'}}]}, response_metadata={'token_usage': {'completion_tokens': 28, 'prompt_tokens': 428, 'total_tokens': 456}, 'model_name': 'mistralai/mistral-large', 'system_fingerprint': '', 'finish_reason': 'tool_calls'}, id='chatcmpl-47de5d120df51014e08de5c63a8f8444', tool_calls=[{'name': 'retrieve_company_information', 'args': {'query': 'cloudmate professional price'}, 'id': 'XipC0Pxjz', 'type': 'tool_call'}], usage_metadata={'input_tokens': 428, 'output_tokens': 28, 'total_tokens': 456}),\n",
      "              ToolMessage(content='[About MadeUpCompany/Pricing/CloudMate Plans]: \\nOur secure and scalable cloud storage service, CloudMate, is available in the following plans:\\n- Basic: $9.99/month – 100GB storage, essential security features\\n- Professional: $29.99/month – 1TB storage, enhanced security, priority support\\n- Enterprise: Custom pricing – Unlimited storage, advanced compliance tools, dedicated account manager\\n\\n[About MadeUpCompany/Pricing/CloudMate Plans]: \\nOur secure and scalable cloud storage service, CloudMate, is available in the following plans:\\n- Basic: $9.99/month – 100GB storage, essential security features\\n- Professional: $29.99/month – 1TB storage, enhanced security, priority support\\n- Enterprise: Custom pricing – Unlimited storage, advanced compliance tools, dedicated account manager\\n\\n[About MadeUpCompany/Products and Services/CloudMate – Secure and Scalable Cloud Storage]: \\nCloudMate is our flagship cloud storage solution, designed for businesses of all sizes. Features include:\\n- ✅ Seamless data migration with automated backups\\n- ✅ Military-grade encryption and multi-factor authentication\\n- ✅ Role-based access control for enterprise security\\n- ✅ AI-powered file organization and search capabilities', name='retrieve_company_information', id='35550276-35f6-4ef7-927c-57dbea20988d', tool_call_id='XipC0Pxjz')],\n",
      " 'remaining_steps': 22}\n",
      "\u001b[36;1m\u001b[1;3m[3:writes]\u001b[0m \u001b[1mFinished step 3 with writes to 1 channel:\n",
      "\u001b[0m- \u001b[33;1m\u001b[1;3mmessages\u001b[0m -> [AIMessage(content='', additional_kwargs={'tool_calls': [{'id': 'HEObYZmou', 'type': 'function', 'function': {'name': 'get_exchange_rate', 'arguments': '{\"currency_date\": \"latest\", \"currency_to\": \"EUR\", \"currency_from\": \"USD\"}'}}]}, response_metadata={'token_usage': {'completion_tokens': 55, 'prompt_tokens': 793, 'total_tokens': 848}, 'model_name': 'mistralai/mistral-large', 'system_fingerprint': '', 'finish_reason': 'tool_calls'}, id='chatcmpl-f32c7876fbc2998c31bc15cb90964435', tool_calls=[{'name': 'get_exchange_rate', 'args': {'currency_date': 'latest', 'currency_to': 'EUR', 'currency_from': 'USD'}, 'id': 'HEObYZmou', 'type': 'tool_call'}], usage_metadata={'input_tokens': 793, 'output_tokens': 55, 'total_tokens': 848})]\n",
      "\u001b[36;1m\u001b[1;3m[3:checkpoint]\u001b[0m \u001b[1mState at the end of step 3:\n",
      "\u001b[0m{'messages': [HumanMessage(content='What is the price of CloudMate Professional? Find the price first and then convert it to euros.', additional_kwargs={}, response_metadata={}, id='1c845568-7baf-4b52-880e-5170c2242d9f'),\n",
      "              AIMessage(content='', additional_kwargs={'tool_calls': [{'id': 'XipC0Pxjz', 'type': 'function', 'function': {'name': 'retrieve_company_information', 'arguments': '{\"query\": \"cloudmate professional price\"}'}}]}, response_metadata={'token_usage': {'completion_tokens': 28, 'prompt_tokens': 428, 'total_tokens': 456}, 'model_name': 'mistralai/mistral-large', 'system_fingerprint': '', 'finish_reason': 'tool_calls'}, id='chatcmpl-47de5d120df51014e08de5c63a8f8444', tool_calls=[{'name': 'retrieve_company_information', 'args': {'query': 'cloudmate professional price'}, 'id': 'XipC0Pxjz', 'type': 'tool_call'}], usage_metadata={'input_tokens': 428, 'output_tokens': 28, 'total_tokens': 456}),\n",
      "              ToolMessage(content='[About MadeUpCompany/Pricing/CloudMate Plans]: \\nOur secure and scalable cloud storage service, CloudMate, is available in the following plans:\\n- Basic: $9.99/month – 100GB storage, essential security features\\n- Professional: $29.99/month – 1TB storage, enhanced security, priority support\\n- Enterprise: Custom pricing – Unlimited storage, advanced compliance tools, dedicated account manager\\n\\n[About MadeUpCompany/Pricing/CloudMate Plans]: \\nOur secure and scalable cloud storage service, CloudMate, is available in the following plans:\\n- Basic: $9.99/month – 100GB storage, essential security features\\n- Professional: $29.99/month – 1TB storage, enhanced security, priority support\\n- Enterprise: Custom pricing – Unlimited storage, advanced compliance tools, dedicated account manager\\n\\n[About MadeUpCompany/Products and Services/CloudMate – Secure and Scalable Cloud Storage]: \\nCloudMate is our flagship cloud storage solution, designed for businesses of all sizes. Features include:\\n- ✅ Seamless data migration with automated backups\\n- ✅ Military-grade encryption and multi-factor authentication\\n- ✅ Role-based access control for enterprise security\\n- ✅ AI-powered file organization and search capabilities', name='retrieve_company_information', id='35550276-35f6-4ef7-927c-57dbea20988d', tool_call_id='XipC0Pxjz'),\n",
      "              AIMessage(content='', additional_kwargs={'tool_calls': [{'id': 'HEObYZmou', 'type': 'function', 'function': {'name': 'get_exchange_rate', 'arguments': '{\"currency_date\": \"latest\", \"currency_to\": \"EUR\", \"currency_from\": \"USD\"}'}}]}, response_metadata={'token_usage': {'completion_tokens': 55, 'prompt_tokens': 793, 'total_tokens': 848}, 'model_name': 'mistralai/mistral-large', 'system_fingerprint': '', 'finish_reason': 'tool_calls'}, id='chatcmpl-f32c7876fbc2998c31bc15cb90964435', tool_calls=[{'name': 'get_exchange_rate', 'args': {'currency_date': 'latest', 'currency_to': 'EUR', 'currency_from': 'USD'}, 'id': 'HEObYZmou', 'type': 'tool_call'}], usage_metadata={'input_tokens': 793, 'output_tokens': 55, 'total_tokens': 848})]}\n",
      "\u001b[36;1m\u001b[1;3m[4:tasks]\u001b[0m \u001b[1mStarting 1 task for step 4:\n",
      "\u001b[0m- \u001b[32;1m\u001b[1;3mtools\u001b[0m -> {'is_last_step': False,\n",
      " 'messages': [HumanMessage(content='What is the price of CloudMate Professional? Find the price first and then convert it to euros.', additional_kwargs={}, response_metadata={}, id='1c845568-7baf-4b52-880e-5170c2242d9f'),\n",
      "              AIMessage(content='', additional_kwargs={'tool_calls': [{'id': 'XipC0Pxjz', 'type': 'function', 'function': {'name': 'retrieve_company_information', 'arguments': '{\"query\": \"cloudmate professional price\"}'}}]}, response_metadata={'token_usage': {'completion_tokens': 28, 'prompt_tokens': 428, 'total_tokens': 456}, 'model_name': 'mistralai/mistral-large', 'system_fingerprint': '', 'finish_reason': 'tool_calls'}, id='chatcmpl-47de5d120df51014e08de5c63a8f8444', tool_calls=[{'name': 'retrieve_company_information', 'args': {'query': 'cloudmate professional price'}, 'id': 'XipC0Pxjz', 'type': 'tool_call'}], usage_metadata={'input_tokens': 428, 'output_tokens': 28, 'total_tokens': 456}),\n",
      "              ToolMessage(content='[About MadeUpCompany/Pricing/CloudMate Plans]: \\nOur secure and scalable cloud storage service, CloudMate, is available in the following plans:\\n- Basic: $9.99/month – 100GB storage, essential security features\\n- Professional: $29.99/month – 1TB storage, enhanced security, priority support\\n- Enterprise: Custom pricing – Unlimited storage, advanced compliance tools, dedicated account manager\\n\\n[About MadeUpCompany/Pricing/CloudMate Plans]: \\nOur secure and scalable cloud storage service, CloudMate, is available in the following plans:\\n- Basic: $9.99/month – 100GB storage, essential security features\\n- Professional: $29.99/month – 1TB storage, enhanced security, priority support\\n- Enterprise: Custom pricing – Unlimited storage, advanced compliance tools, dedicated account manager\\n\\n[About MadeUpCompany/Products and Services/CloudMate – Secure and Scalable Cloud Storage]: \\nCloudMate is our flagship cloud storage solution, designed for businesses of all sizes. Features include:\\n- ✅ Seamless data migration with automated backups\\n- ✅ Military-grade encryption and multi-factor authentication\\n- ✅ Role-based access control for enterprise security\\n- ✅ AI-powered file organization and search capabilities', name='retrieve_company_information', id='35550276-35f6-4ef7-927c-57dbea20988d', tool_call_id='XipC0Pxjz'),\n",
      "              AIMessage(content='', additional_kwargs={'tool_calls': [{'id': 'HEObYZmou', 'type': 'function', 'function': {'name': 'get_exchange_rate', 'arguments': '{\"currency_date\": \"latest\", \"currency_to\": \"EUR\", \"currency_from\": \"USD\"}'}}]}, response_metadata={'token_usage': {'completion_tokens': 55, 'prompt_tokens': 793, 'total_tokens': 848}, 'model_name': 'mistralai/mistral-large', 'system_fingerprint': '', 'finish_reason': 'tool_calls'}, id='chatcmpl-f32c7876fbc2998c31bc15cb90964435', tool_calls=[{'name': 'get_exchange_rate', 'args': {'currency_date': 'latest', 'currency_to': 'EUR', 'currency_from': 'USD'}, 'id': 'HEObYZmou', 'type': 'tool_call'}], usage_metadata={'input_tokens': 793, 'output_tokens': 55, 'total_tokens': 848})],\n",
      " 'remaining_steps': 21}\n",
      "\u001b[36;1m\u001b[1;3m[4:writes]\u001b[0m \u001b[1mFinished step 4 with writes to 1 channel:\n",
      "\u001b[0m- \u001b[33;1m\u001b[1;3mmessages\u001b[0m -> [ToolMessage(content='{\"amount\": 1.0, \"base\": \"USD\", \"date\": \"2025-04-15\", \"rates\": {\"EUR\": 0.88308}}', name='get_exchange_rate', tool_call_id='HEObYZmou')]\n",
      "\u001b[36;1m\u001b[1;3m[4:checkpoint]\u001b[0m \u001b[1mState at the end of step 4:\n",
      "\u001b[0m{'messages': [HumanMessage(content='What is the price of CloudMate Professional? Find the price first and then convert it to euros.', additional_kwargs={}, response_metadata={}, id='1c845568-7baf-4b52-880e-5170c2242d9f'),\n",
      "              AIMessage(content='', additional_kwargs={'tool_calls': [{'id': 'XipC0Pxjz', 'type': 'function', 'function': {'name': 'retrieve_company_information', 'arguments': '{\"query\": \"cloudmate professional price\"}'}}]}, response_metadata={'token_usage': {'completion_tokens': 28, 'prompt_tokens': 428, 'total_tokens': 456}, 'model_name': 'mistralai/mistral-large', 'system_fingerprint': '', 'finish_reason': 'tool_calls'}, id='chatcmpl-47de5d120df51014e08de5c63a8f8444', tool_calls=[{'name': 'retrieve_company_information', 'args': {'query': 'cloudmate professional price'}, 'id': 'XipC0Pxjz', 'type': 'tool_call'}], usage_metadata={'input_tokens': 428, 'output_tokens': 28, 'total_tokens': 456}),\n",
      "              ToolMessage(content='[About MadeUpCompany/Pricing/CloudMate Plans]: \\nOur secure and scalable cloud storage service, CloudMate, is available in the following plans:\\n- Basic: $9.99/month – 100GB storage, essential security features\\n- Professional: $29.99/month – 1TB storage, enhanced security, priority support\\n- Enterprise: Custom pricing – Unlimited storage, advanced compliance tools, dedicated account manager\\n\\n[About MadeUpCompany/Pricing/CloudMate Plans]: \\nOur secure and scalable cloud storage service, CloudMate, is available in the following plans:\\n- Basic: $9.99/month – 100GB storage, essential security features\\n- Professional: $29.99/month – 1TB storage, enhanced security, priority support\\n- Enterprise: Custom pricing – Unlimited storage, advanced compliance tools, dedicated account manager\\n\\n[About MadeUpCompany/Products and Services/CloudMate – Secure and Scalable Cloud Storage]: \\nCloudMate is our flagship cloud storage solution, designed for businesses of all sizes. Features include:\\n- ✅ Seamless data migration with automated backups\\n- ✅ Military-grade encryption and multi-factor authentication\\n- ✅ Role-based access control for enterprise security\\n- ✅ AI-powered file organization and search capabilities', name='retrieve_company_information', id='35550276-35f6-4ef7-927c-57dbea20988d', tool_call_id='XipC0Pxjz'),\n",
      "              AIMessage(content='', additional_kwargs={'tool_calls': [{'id': 'HEObYZmou', 'type': 'function', 'function': {'name': 'get_exchange_rate', 'arguments': '{\"currency_date\": \"latest\", \"currency_to\": \"EUR\", \"currency_from\": \"USD\"}'}}]}, response_metadata={'token_usage': {'completion_tokens': 55, 'prompt_tokens': 793, 'total_tokens': 848}, 'model_name': 'mistralai/mistral-large', 'system_fingerprint': '', 'finish_reason': 'tool_calls'}, id='chatcmpl-f32c7876fbc2998c31bc15cb90964435', tool_calls=[{'name': 'get_exchange_rate', 'args': {'currency_date': 'latest', 'currency_to': 'EUR', 'currency_from': 'USD'}, 'id': 'HEObYZmou', 'type': 'tool_call'}], usage_metadata={'input_tokens': 793, 'output_tokens': 55, 'total_tokens': 848}),\n",
      "              ToolMessage(content='{\"amount\": 1.0, \"base\": \"USD\", \"date\": \"2025-04-15\", \"rates\": {\"EUR\": 0.88308}}', name='get_exchange_rate', id='43f8b9e2-4a64-48a0-901b-b2be60532ab7', tool_call_id='HEObYZmou')]}\n",
      "\u001b[36;1m\u001b[1;3m[5:tasks]\u001b[0m \u001b[1mStarting 1 task for step 5:\n",
      "\u001b[0m- \u001b[32;1m\u001b[1;3magent\u001b[0m -> {'is_last_step': False,\n",
      " 'messages': [HumanMessage(content='What is the price of CloudMate Professional? Find the price first and then convert it to euros.', additional_kwargs={}, response_metadata={}, id='1c845568-7baf-4b52-880e-5170c2242d9f'),\n",
      "              AIMessage(content='', additional_kwargs={'tool_calls': [{'id': 'XipC0Pxjz', 'type': 'function', 'function': {'name': 'retrieve_company_information', 'arguments': '{\"query\": \"cloudmate professional price\"}'}}]}, response_metadata={'token_usage': {'completion_tokens': 28, 'prompt_tokens': 428, 'total_tokens': 456}, 'model_name': 'mistralai/mistral-large', 'system_fingerprint': '', 'finish_reason': 'tool_calls'}, id='chatcmpl-47de5d120df51014e08de5c63a8f8444', tool_calls=[{'name': 'retrieve_company_information', 'args': {'query': 'cloudmate professional price'}, 'id': 'XipC0Pxjz', 'type': 'tool_call'}], usage_metadata={'input_tokens': 428, 'output_tokens': 28, 'total_tokens': 456}),\n",
      "              ToolMessage(content='[About MadeUpCompany/Pricing/CloudMate Plans]: \\nOur secure and scalable cloud storage service, CloudMate, is available in the following plans:\\n- Basic: $9.99/month – 100GB storage, essential security features\\n- Professional: $29.99/month – 1TB storage, enhanced security, priority support\\n- Enterprise: Custom pricing – Unlimited storage, advanced compliance tools, dedicated account manager\\n\\n[About MadeUpCompany/Pricing/CloudMate Plans]: \\nOur secure and scalable cloud storage service, CloudMate, is available in the following plans:\\n- Basic: $9.99/month – 100GB storage, essential security features\\n- Professional: $29.99/month – 1TB storage, enhanced security, priority support\\n- Enterprise: Custom pricing – Unlimited storage, advanced compliance tools, dedicated account manager\\n\\n[About MadeUpCompany/Products and Services/CloudMate – Secure and Scalable Cloud Storage]: \\nCloudMate is our flagship cloud storage solution, designed for businesses of all sizes. Features include:\\n- ✅ Seamless data migration with automated backups\\n- ✅ Military-grade encryption and multi-factor authentication\\n- ✅ Role-based access control for enterprise security\\n- ✅ AI-powered file organization and search capabilities', name='retrieve_company_information', id='35550276-35f6-4ef7-927c-57dbea20988d', tool_call_id='XipC0Pxjz'),\n",
      "              AIMessage(content='', additional_kwargs={'tool_calls': [{'id': 'HEObYZmou', 'type': 'function', 'function': {'name': 'get_exchange_rate', 'arguments': '{\"currency_date\": \"latest\", \"currency_to\": \"EUR\", \"currency_from\": \"USD\"}'}}]}, response_metadata={'token_usage': {'completion_tokens': 55, 'prompt_tokens': 793, 'total_tokens': 848}, 'model_name': 'mistralai/mistral-large', 'system_fingerprint': '', 'finish_reason': 'tool_calls'}, id='chatcmpl-f32c7876fbc2998c31bc15cb90964435', tool_calls=[{'name': 'get_exchange_rate', 'args': {'currency_date': 'latest', 'currency_to': 'EUR', 'currency_from': 'USD'}, 'id': 'HEObYZmou', 'type': 'tool_call'}], usage_metadata={'input_tokens': 793, 'output_tokens': 55, 'total_tokens': 848}),\n",
      "              ToolMessage(content='{\"amount\": 1.0, \"base\": \"USD\", \"date\": \"2025-04-15\", \"rates\": {\"EUR\": 0.88308}}', name='get_exchange_rate', id='43f8b9e2-4a64-48a0-901b-b2be60532ab7', tool_call_id='HEObYZmou')],\n",
      " 'remaining_steps': 20}\n",
      "\u001b[36;1m\u001b[1;3m[5:writes]\u001b[0m \u001b[1mFinished step 5 with writes to 1 channel:\n",
      "\u001b[0m- \u001b[33;1m\u001b[1;3mmessages\u001b[0m -> [AIMessage(content=' The price of CloudMate Professional is $29.99 per month. The current exchange rate from USD to EUR is 0.88308. Consequently, the price in euros would be approximately 26.47 EUR per month.', additional_kwargs={}, response_metadata={'token_usage': {'completion_tokens': 59, 'prompt_tokens': 913, 'total_tokens': 972}, 'model_name': 'mistralai/mistral-large', 'system_fingerprint': '', 'finish_reason': 'stop'}, id='chatcmpl-0668481653fc7f4d6f4f91392bd45dc1', usage_metadata={'input_tokens': 913, 'output_tokens': 59, 'total_tokens': 972})]\n",
      "\u001b[36;1m\u001b[1;3m[5:checkpoint]\u001b[0m \u001b[1mState at the end of step 5:\n",
      "\u001b[0m{'messages': [HumanMessage(content='What is the price of CloudMate Professional? Find the price first and then convert it to euros.', additional_kwargs={}, response_metadata={}, id='1c845568-7baf-4b52-880e-5170c2242d9f'),\n",
      "              AIMessage(content='', additional_kwargs={'tool_calls': [{'id': 'XipC0Pxjz', 'type': 'function', 'function': {'name': 'retrieve_company_information', 'arguments': '{\"query\": \"cloudmate professional price\"}'}}]}, response_metadata={'token_usage': {'completion_tokens': 28, 'prompt_tokens': 428, 'total_tokens': 456}, 'model_name': 'mistralai/mistral-large', 'system_fingerprint': '', 'finish_reason': 'tool_calls'}, id='chatcmpl-47de5d120df51014e08de5c63a8f8444', tool_calls=[{'name': 'retrieve_company_information', 'args': {'query': 'cloudmate professional price'}, 'id': 'XipC0Pxjz', 'type': 'tool_call'}], usage_metadata={'input_tokens': 428, 'output_tokens': 28, 'total_tokens': 456}),\n",
      "              ToolMessage(content='[About MadeUpCompany/Pricing/CloudMate Plans]: \\nOur secure and scalable cloud storage service, CloudMate, is available in the following plans:\\n- Basic: $9.99/month – 100GB storage, essential security features\\n- Professional: $29.99/month – 1TB storage, enhanced security, priority support\\n- Enterprise: Custom pricing – Unlimited storage, advanced compliance tools, dedicated account manager\\n\\n[About MadeUpCompany/Pricing/CloudMate Plans]: \\nOur secure and scalable cloud storage service, CloudMate, is available in the following plans:\\n- Basic: $9.99/month – 100GB storage, essential security features\\n- Professional: $29.99/month – 1TB storage, enhanced security, priority support\\n- Enterprise: Custom pricing – Unlimited storage, advanced compliance tools, dedicated account manager\\n\\n[About MadeUpCompany/Products and Services/CloudMate – Secure and Scalable Cloud Storage]: \\nCloudMate is our flagship cloud storage solution, designed for businesses of all sizes. Features include:\\n- ✅ Seamless data migration with automated backups\\n- ✅ Military-grade encryption and multi-factor authentication\\n- ✅ Role-based access control for enterprise security\\n- ✅ AI-powered file organization and search capabilities', name='retrieve_company_information', id='35550276-35f6-4ef7-927c-57dbea20988d', tool_call_id='XipC0Pxjz'),\n",
      "              AIMessage(content='', additional_kwargs={'tool_calls': [{'id': 'HEObYZmou', 'type': 'function', 'function': {'name': 'get_exchange_rate', 'arguments': '{\"currency_date\": \"latest\", \"currency_to\": \"EUR\", \"currency_from\": \"USD\"}'}}]}, response_metadata={'token_usage': {'completion_tokens': 55, 'prompt_tokens': 793, 'total_tokens': 848}, 'model_name': 'mistralai/mistral-large', 'system_fingerprint': '', 'finish_reason': 'tool_calls'}, id='chatcmpl-f32c7876fbc2998c31bc15cb90964435', tool_calls=[{'name': 'get_exchange_rate', 'args': {'currency_date': 'latest', 'currency_to': 'EUR', 'currency_from': 'USD'}, 'id': 'HEObYZmou', 'type': 'tool_call'}], usage_metadata={'input_tokens': 793, 'output_tokens': 55, 'total_tokens': 848}),\n",
      "              ToolMessage(content='{\"amount\": 1.0, \"base\": \"USD\", \"date\": \"2025-04-15\", \"rates\": {\"EUR\": 0.88308}}', name='get_exchange_rate', id='43f8b9e2-4a64-48a0-901b-b2be60532ab7', tool_call_id='HEObYZmou'),\n",
      "              AIMessage(content=' The price of CloudMate Professional is $29.99 per month. The current exchange rate from USD to EUR is 0.88308. Consequently, the price in euros would be approximately 26.47 EUR per month.', additional_kwargs={}, response_metadata={'token_usage': {'completion_tokens': 59, 'prompt_tokens': 913, 'total_tokens': 972}, 'model_name': 'mistralai/mistral-large', 'system_fingerprint': '', 'finish_reason': 'stop'}, id='chatcmpl-0668481653fc7f4d6f4f91392bd45dc1', usage_metadata={'input_tokens': 913, 'output_tokens': 59, 'total_tokens': 972})]}\n"
     ]
    }
   ],
   "source": [
    "response = graph.invoke(\n",
    "    \n",
    "    {\n",
    "        \"messages\": [\n",
    "            (\n",
    "                \"user\", \"What is the price of CloudMate Professional? Find the price first and then convert it to euros.\"\n",
    "            )\n",
    "        ],\n",
    "    },\n",
    "    debug=True,\n",
    "    \n",
    ")"
   ]
  },
  {
   "cell_type": "code",
   "execution_count": 17,
   "metadata": {},
   "outputs": [
    {
     "name": "stdout",
     "output_type": "stream",
     "text": [
      " The price of CloudMate Professional is $29.99 per month. The current exchange rate from USD to EUR is 0.88308. Consequently, the price in euros would be approximately 26.47 EUR per month.\n"
     ]
    }
   ],
   "source": [
    "print(response[\"messages\"][-1].content)"
   ]
  },
  {
   "cell_type": "markdown",
   "metadata": {},
   "source": [
    "### Adding search tool"
   ]
  },
  {
   "cell_type": "code",
   "execution_count": 18,
   "metadata": {},
   "outputs": [],
   "source": [
    "search_tool = DuckDuckGoSearchResults()"
   ]
  },
  {
   "cell_type": "code",
   "execution_count": 19,
   "metadata": {},
   "outputs": [],
   "source": [
    "tools_for_agent = [get_exchange_rate, retriever_tool, search_tool]\n",
    "\n",
    "graph = create_react_agent(chat_model, tools=tools_for_agent, debug=True)"
   ]
  },
  {
   "cell_type": "code",
   "execution_count": 20,
   "metadata": {},
   "outputs": [
    {
     "name": "stdout",
     "output_type": "stream",
     "text": [
      "\u001b[36;1m\u001b[1;3m[-1:checkpoint]\u001b[0m \u001b[1mState at the end of step -1:\n",
      "\u001b[0m{'messages': []}\n",
      "\u001b[36;1m\u001b[1;3m[0:tasks]\u001b[0m \u001b[1mStarting 1 task for step 0:\n",
      "\u001b[0m- \u001b[32;1m\u001b[1;3m__start__\u001b[0m -> {'messages': [('user',\n",
      "               'Compare the price of CloudMate Professional from MadeUpCompany '\n",
      "               'with the price of OneDrive from Microsoft. Find the price '\n",
      "               'first and then convert it to euros.')]}\n",
      "\u001b[36;1m\u001b[1;3m[0:writes]\u001b[0m \u001b[1mFinished step 0 with writes to 1 channel:\n",
      "\u001b[0m- \u001b[33;1m\u001b[1;3mmessages\u001b[0m -> [('user',\n",
      "  'Compare the price of CloudMate Professional from MadeUpCompany with the '\n",
      "  'price of OneDrive from Microsoft. Find the price first and then convert it '\n",
      "  'to euros.')]\n",
      "\u001b[36;1m\u001b[1;3m[0:checkpoint]\u001b[0m \u001b[1mState at the end of step 0:\n",
      "\u001b[0m{'messages': [HumanMessage(content='Compare the price of CloudMate Professional from MadeUpCompany with the price of OneDrive from Microsoft. Find the price first and then convert it to euros.', additional_kwargs={}, response_metadata={}, id='c66857d5-95a9-489e-9df9-8c93707ec701')]}\n",
      "\u001b[36;1m\u001b[1;3m[1:tasks]\u001b[0m \u001b[1mStarting 1 task for step 1:\n",
      "\u001b[0m- \u001b[32;1m\u001b[1;3magent\u001b[0m -> {'is_last_step': False,\n",
      " 'messages': [HumanMessage(content='Compare the price of CloudMate Professional from MadeUpCompany with the price of OneDrive from Microsoft. Find the price first and then convert it to euros.', additional_kwargs={}, response_metadata={}, id='c66857d5-95a9-489e-9df9-8c93707ec701')],\n",
      " 'remaining_steps': 24}\n",
      "\u001b[36;1m\u001b[1;3m[1:writes]\u001b[0m \u001b[1mFinished step 1 with writes to 1 channel:\n",
      "\u001b[0m- \u001b[33;1m\u001b[1;3mmessages\u001b[0m -> [AIMessage(content='', additional_kwargs={'tool_calls': [{'id': '40VuWPOkP', 'type': 'function', 'function': {'name': 'duckduckgo_results_json', 'arguments': '{\"query\": \"price OneDrive Microsoft\"}'}}, {'id': 'D9TN1uAQ2', 'type': 'function', 'function': {'name': 'retrieve_company_information', 'arguments': '{\"query\": \"price CloudMate Professional\"}'}}]}, response_metadata={'token_usage': {'completion_tokens': 57, 'prompt_tokens': 538, 'total_tokens': 595}, 'model_name': 'mistralai/mistral-large', 'system_fingerprint': '', 'finish_reason': 'tool_calls'}, id='chatcmpl-c4c0e90c3faf318982d2d9390e6adc43', tool_calls=[{'name': 'duckduckgo_results_json', 'args': {'query': 'price OneDrive Microsoft'}, 'id': '40VuWPOkP', 'type': 'tool_call'}, {'name': 'retrieve_company_information', 'args': {'query': 'price CloudMate Professional'}, 'id': 'D9TN1uAQ2', 'type': 'tool_call'}], usage_metadata={'input_tokens': 538, 'output_tokens': 57, 'total_tokens': 595})]\n",
      "\u001b[36;1m\u001b[1;3m[1:checkpoint]\u001b[0m \u001b[1mState at the end of step 1:\n",
      "\u001b[0m{'messages': [HumanMessage(content='Compare the price of CloudMate Professional from MadeUpCompany with the price of OneDrive from Microsoft. Find the price first and then convert it to euros.', additional_kwargs={}, response_metadata={}, id='c66857d5-95a9-489e-9df9-8c93707ec701'),\n",
      "              AIMessage(content='', additional_kwargs={'tool_calls': [{'id': '40VuWPOkP', 'type': 'function', 'function': {'name': 'duckduckgo_results_json', 'arguments': '{\"query\": \"price OneDrive Microsoft\"}'}}, {'id': 'D9TN1uAQ2', 'type': 'function', 'function': {'name': 'retrieve_company_information', 'arguments': '{\"query\": \"price CloudMate Professional\"}'}}]}, response_metadata={'token_usage': {'completion_tokens': 57, 'prompt_tokens': 538, 'total_tokens': 595}, 'model_name': 'mistralai/mistral-large', 'system_fingerprint': '', 'finish_reason': 'tool_calls'}, id='chatcmpl-c4c0e90c3faf318982d2d9390e6adc43', tool_calls=[{'name': 'duckduckgo_results_json', 'args': {'query': 'price OneDrive Microsoft'}, 'id': '40VuWPOkP', 'type': 'tool_call'}, {'name': 'retrieve_company_information', 'args': {'query': 'price CloudMate Professional'}, 'id': 'D9TN1uAQ2', 'type': 'tool_call'}], usage_metadata={'input_tokens': 538, 'output_tokens': 57, 'total_tokens': 595})]}\n",
      "\u001b[36;1m\u001b[1;3m[2:tasks]\u001b[0m \u001b[1mStarting 1 task for step 2:\n",
      "\u001b[0m- \u001b[32;1m\u001b[1;3mtools\u001b[0m -> {'is_last_step': False,\n",
      " 'messages': [HumanMessage(content='Compare the price of CloudMate Professional from MadeUpCompany with the price of OneDrive from Microsoft. Find the price first and then convert it to euros.', additional_kwargs={}, response_metadata={}, id='c66857d5-95a9-489e-9df9-8c93707ec701'),\n",
      "              AIMessage(content='', additional_kwargs={'tool_calls': [{'id': '40VuWPOkP', 'type': 'function', 'function': {'name': 'duckduckgo_results_json', 'arguments': '{\"query\": \"price OneDrive Microsoft\"}'}}, {'id': 'D9TN1uAQ2', 'type': 'function', 'function': {'name': 'retrieve_company_information', 'arguments': '{\"query\": \"price CloudMate Professional\"}'}}]}, response_metadata={'token_usage': {'completion_tokens': 57, 'prompt_tokens': 538, 'total_tokens': 595}, 'model_name': 'mistralai/mistral-large', 'system_fingerprint': '', 'finish_reason': 'tool_calls'}, id='chatcmpl-c4c0e90c3faf318982d2d9390e6adc43', tool_calls=[{'name': 'duckduckgo_results_json', 'args': {'query': 'price OneDrive Microsoft'}, 'id': '40VuWPOkP', 'type': 'tool_call'}, {'name': 'retrieve_company_information', 'args': {'query': 'price CloudMate Professional'}, 'id': 'D9TN1uAQ2', 'type': 'tool_call'}], usage_metadata={'input_tokens': 538, 'output_tokens': 57, 'total_tokens': 595})],\n",
      " 'remaining_steps': 23}\n",
      "\u001b[36;1m\u001b[1;3m[2:writes]\u001b[0m \u001b[1mFinished step 2 with writes to 1 channel:\n",
      "\u001b[0m- \u001b[33;1m\u001b[1;3mmessages\u001b[0m -> [ToolMessage(content=\"snippet: Free Plan Price: Free Storage: 5 GB Features: Web and mobile versions of Word, Excel, PowerPoint, OneNote, OneDrive, and Outlook email and calendar. Purchase Link This link will take you to the Microsoft website where you can compare and purchase the plans that best suit your needs. If you have any other questions, feel free to ask. Best regards,, title: how to purchase a plan in microsoft one drive, link: https://answers.microsoft.com/en-us/msoffice/forum/all/how-to-purchase-a-plan-in-microsoft-one-drive/38e11231-b45f-4afa-87cb-2cfdbb1e0e2e, snippet: Get a clear breakdown of Microsoft OneDrive pricing plans, compare options, and find the best fit for your team's budget and requirements., title: Microsoft OneDrive Pricing & Plans (2025 Guide), link: https://www.keevee.com/microsoft-onedrive-pricing, snippet: OneDrive lets you share files and collaborate on documents, and sync files to your computer. Learn more about OneDrive features, functionality, and pricing. OneDrive is included in Microsoft 365 and Office 365 plans, in SharePoint plans, and can also be purchased as a standalone plan., title: OneDrive service description - Service Descriptions | Microsoft Learn, link: https://learn.microsoft.com/en-us/office365/servicedescriptions/onedrive-for-business-service-description, snippet: Google Drive's Standard package comes in at $2.99 a month for 200 GB, but OneDrive offers 1 TB (five times more than what you get with Google) for $6.99 (just over twice the price) as part of its Microsoft 365 Personal package, meaning you get all the other Microsoft perks included, such as the desktop apps., title: Google Drive vs. Microsoft OneDrive: Which Is Best? - How-To Geek, link: https://www.howtogeek.com/google-drive-vs-microsoft-onedrive-which-is-best/\", name='duckduckgo_results_json', tool_call_id='40VuWPOkP', artifact=[{'snippet': 'Free Plan Price: Free Storage: 5 GB Features: Web and mobile versions of Word, Excel, PowerPoint, OneNote, OneDrive, and Outlook email and calendar. Purchase Link This link will take you to the Microsoft website where you can compare and purchase the plans that best suit your needs. If you have any other questions, feel free to ask. Best regards,', 'title': 'how to purchase a plan in microsoft one drive', 'link': 'https://answers.microsoft.com/en-us/msoffice/forum/all/how-to-purchase-a-plan-in-microsoft-one-drive/38e11231-b45f-4afa-87cb-2cfdbb1e0e2e'}, {'snippet': \"Get a clear breakdown of Microsoft OneDrive pricing plans, compare options, and find the best fit for your team's budget and requirements.\", 'title': 'Microsoft OneDrive Pricing & Plans (2025 Guide)', 'link': 'https://www.keevee.com/microsoft-onedrive-pricing'}, {'snippet': 'OneDrive lets you share files and collaborate on documents, and sync files to your computer. Learn more about OneDrive features, functionality, and pricing. OneDrive is included in Microsoft 365 and Office 365 plans, in SharePoint plans, and can also be purchased as a standalone plan.', 'title': 'OneDrive service description - Service Descriptions | Microsoft Learn', 'link': 'https://learn.microsoft.com/en-us/office365/servicedescriptions/onedrive-for-business-service-description'}, {'snippet': \"Google Drive's Standard package comes in at $2.99 a month for 200 GB, but OneDrive offers 1 TB (five times more than what you get with Google) for $6.99 (just over twice the price) as part of its Microsoft 365 Personal package, meaning you get all the other Microsoft perks included, such as the desktop apps.\", 'title': 'Google Drive vs. Microsoft OneDrive: Which Is Best? - How-To Geek', 'link': 'https://www.howtogeek.com/google-drive-vs-microsoft-onedrive-which-is-best/'}]),\n",
      " ToolMessage(content='[About MadeUpCompany/Pricing/CloudMate Plans]: \\nOur secure and scalable cloud storage service, CloudMate, is available in the following plans:\\n- Basic: $9.99/month – 100GB storage, essential security features\\n- Professional: $29.99/month – 1TB storage, enhanced security, priority support\\n- Enterprise: Custom pricing – Unlimited storage, advanced compliance tools, dedicated account manager\\n\\n[About MadeUpCompany/Pricing/CloudMate Plans]: \\nOur secure and scalable cloud storage service, CloudMate, is available in the following plans:\\n- Basic: $9.99/month – 100GB storage, essential security features\\n- Professional: $29.99/month – 1TB storage, enhanced security, priority support\\n- Enterprise: Custom pricing – Unlimited storage, advanced compliance tools, dedicated account manager\\n\\n[About MadeUpCompany/Products and Services/CloudMate – Secure and Scalable Cloud Storage]: \\nCloudMate is our flagship cloud storage solution, designed for businesses of all sizes. Features include:\\n- ✅ Seamless data migration with automated backups\\n- ✅ Military-grade encryption and multi-factor authentication\\n- ✅ Role-based access control for enterprise security\\n- ✅ AI-powered file organization and search capabilities', name='retrieve_company_information', tool_call_id='D9TN1uAQ2')]\n",
      "\u001b[36;1m\u001b[1;3m[2:checkpoint]\u001b[0m \u001b[1mState at the end of step 2:\n",
      "\u001b[0m{'messages': [HumanMessage(content='Compare the price of CloudMate Professional from MadeUpCompany with the price of OneDrive from Microsoft. Find the price first and then convert it to euros.', additional_kwargs={}, response_metadata={}, id='c66857d5-95a9-489e-9df9-8c93707ec701'),\n",
      "              AIMessage(content='', additional_kwargs={'tool_calls': [{'id': '40VuWPOkP', 'type': 'function', 'function': {'name': 'duckduckgo_results_json', 'arguments': '{\"query\": \"price OneDrive Microsoft\"}'}}, {'id': 'D9TN1uAQ2', 'type': 'function', 'function': {'name': 'retrieve_company_information', 'arguments': '{\"query\": \"price CloudMate Professional\"}'}}]}, response_metadata={'token_usage': {'completion_tokens': 57, 'prompt_tokens': 538, 'total_tokens': 595}, 'model_name': 'mistralai/mistral-large', 'system_fingerprint': '', 'finish_reason': 'tool_calls'}, id='chatcmpl-c4c0e90c3faf318982d2d9390e6adc43', tool_calls=[{'name': 'duckduckgo_results_json', 'args': {'query': 'price OneDrive Microsoft'}, 'id': '40VuWPOkP', 'type': 'tool_call'}, {'name': 'retrieve_company_information', 'args': {'query': 'price CloudMate Professional'}, 'id': 'D9TN1uAQ2', 'type': 'tool_call'}], usage_metadata={'input_tokens': 538, 'output_tokens': 57, 'total_tokens': 595}),\n",
      "              ToolMessage(content=\"snippet: Free Plan Price: Free Storage: 5 GB Features: Web and mobile versions of Word, Excel, PowerPoint, OneNote, OneDrive, and Outlook email and calendar. Purchase Link This link will take you to the Microsoft website where you can compare and purchase the plans that best suit your needs. If you have any other questions, feel free to ask. Best regards,, title: how to purchase a plan in microsoft one drive, link: https://answers.microsoft.com/en-us/msoffice/forum/all/how-to-purchase-a-plan-in-microsoft-one-drive/38e11231-b45f-4afa-87cb-2cfdbb1e0e2e, snippet: Get a clear breakdown of Microsoft OneDrive pricing plans, compare options, and find the best fit for your team's budget and requirements., title: Microsoft OneDrive Pricing & Plans (2025 Guide), link: https://www.keevee.com/microsoft-onedrive-pricing, snippet: OneDrive lets you share files and collaborate on documents, and sync files to your computer. Learn more about OneDrive features, functionality, and pricing. OneDrive is included in Microsoft 365 and Office 365 plans, in SharePoint plans, and can also be purchased as a standalone plan., title: OneDrive service description - Service Descriptions | Microsoft Learn, link: https://learn.microsoft.com/en-us/office365/servicedescriptions/onedrive-for-business-service-description, snippet: Google Drive's Standard package comes in at $2.99 a month for 200 GB, but OneDrive offers 1 TB (five times more than what you get with Google) for $6.99 (just over twice the price) as part of its Microsoft 365 Personal package, meaning you get all the other Microsoft perks included, such as the desktop apps., title: Google Drive vs. Microsoft OneDrive: Which Is Best? - How-To Geek, link: https://www.howtogeek.com/google-drive-vs-microsoft-onedrive-which-is-best/\", name='duckduckgo_results_json', id='f0fde7e7-092d-4cc6-941f-3cffc31ca911', tool_call_id='40VuWPOkP', artifact=[{'snippet': 'Free Plan Price: Free Storage: 5 GB Features: Web and mobile versions of Word, Excel, PowerPoint, OneNote, OneDrive, and Outlook email and calendar. Purchase Link This link will take you to the Microsoft website where you can compare and purchase the plans that best suit your needs. If you have any other questions, feel free to ask. Best regards,', 'title': 'how to purchase a plan in microsoft one drive', 'link': 'https://answers.microsoft.com/en-us/msoffice/forum/all/how-to-purchase-a-plan-in-microsoft-one-drive/38e11231-b45f-4afa-87cb-2cfdbb1e0e2e'}, {'snippet': \"Get a clear breakdown of Microsoft OneDrive pricing plans, compare options, and find the best fit for your team's budget and requirements.\", 'title': 'Microsoft OneDrive Pricing & Plans (2025 Guide)', 'link': 'https://www.keevee.com/microsoft-onedrive-pricing'}, {'snippet': 'OneDrive lets you share files and collaborate on documents, and sync files to your computer. Learn more about OneDrive features, functionality, and pricing. OneDrive is included in Microsoft 365 and Office 365 plans, in SharePoint plans, and can also be purchased as a standalone plan.', 'title': 'OneDrive service description - Service Descriptions | Microsoft Learn', 'link': 'https://learn.microsoft.com/en-us/office365/servicedescriptions/onedrive-for-business-service-description'}, {'snippet': \"Google Drive's Standard package comes in at $2.99 a month for 200 GB, but OneDrive offers 1 TB (five times more than what you get with Google) for $6.99 (just over twice the price) as part of its Microsoft 365 Personal package, meaning you get all the other Microsoft perks included, such as the desktop apps.\", 'title': 'Google Drive vs. Microsoft OneDrive: Which Is Best? - How-To Geek', 'link': 'https://www.howtogeek.com/google-drive-vs-microsoft-onedrive-which-is-best/'}]),\n",
      "              ToolMessage(content='[About MadeUpCompany/Pricing/CloudMate Plans]: \\nOur secure and scalable cloud storage service, CloudMate, is available in the following plans:\\n- Basic: $9.99/month – 100GB storage, essential security features\\n- Professional: $29.99/month – 1TB storage, enhanced security, priority support\\n- Enterprise: Custom pricing – Unlimited storage, advanced compliance tools, dedicated account manager\\n\\n[About MadeUpCompany/Pricing/CloudMate Plans]: \\nOur secure and scalable cloud storage service, CloudMate, is available in the following plans:\\n- Basic: $9.99/month – 100GB storage, essential security features\\n- Professional: $29.99/month – 1TB storage, enhanced security, priority support\\n- Enterprise: Custom pricing – Unlimited storage, advanced compliance tools, dedicated account manager\\n\\n[About MadeUpCompany/Products and Services/CloudMate – Secure and Scalable Cloud Storage]: \\nCloudMate is our flagship cloud storage solution, designed for businesses of all sizes. Features include:\\n- ✅ Seamless data migration with automated backups\\n- ✅ Military-grade encryption and multi-factor authentication\\n- ✅ Role-based access control for enterprise security\\n- ✅ AI-powered file organization and search capabilities', name='retrieve_company_information', id='258e4faf-ddc2-425b-b065-55e02173df86', tool_call_id='D9TN1uAQ2')]}\n",
      "\u001b[36;1m\u001b[1;3m[3:tasks]\u001b[0m \u001b[1mStarting 1 task for step 3:\n",
      "\u001b[0m- \u001b[32;1m\u001b[1;3magent\u001b[0m -> {'is_last_step': False,\n",
      " 'messages': [HumanMessage(content='Compare the price of CloudMate Professional from MadeUpCompany with the price of OneDrive from Microsoft. Find the price first and then convert it to euros.', additional_kwargs={}, response_metadata={}, id='c66857d5-95a9-489e-9df9-8c93707ec701'),\n",
      "              AIMessage(content='', additional_kwargs={'tool_calls': [{'id': '40VuWPOkP', 'type': 'function', 'function': {'name': 'duckduckgo_results_json', 'arguments': '{\"query\": \"price OneDrive Microsoft\"}'}}, {'id': 'D9TN1uAQ2', 'type': 'function', 'function': {'name': 'retrieve_company_information', 'arguments': '{\"query\": \"price CloudMate Professional\"}'}}]}, response_metadata={'token_usage': {'completion_tokens': 57, 'prompt_tokens': 538, 'total_tokens': 595}, 'model_name': 'mistralai/mistral-large', 'system_fingerprint': '', 'finish_reason': 'tool_calls'}, id='chatcmpl-c4c0e90c3faf318982d2d9390e6adc43', tool_calls=[{'name': 'duckduckgo_results_json', 'args': {'query': 'price OneDrive Microsoft'}, 'id': '40VuWPOkP', 'type': 'tool_call'}, {'name': 'retrieve_company_information', 'args': {'query': 'price CloudMate Professional'}, 'id': 'D9TN1uAQ2', 'type': 'tool_call'}], usage_metadata={'input_tokens': 538, 'output_tokens': 57, 'total_tokens': 595}),\n",
      "              ToolMessage(content=\"snippet: Free Plan Price: Free Storage: 5 GB Features: Web and mobile versions of Word, Excel, PowerPoint, OneNote, OneDrive, and Outlook email and calendar. Purchase Link This link will take you to the Microsoft website where you can compare and purchase the plans that best suit your needs. If you have any other questions, feel free to ask. Best regards,, title: how to purchase a plan in microsoft one drive, link: https://answers.microsoft.com/en-us/msoffice/forum/all/how-to-purchase-a-plan-in-microsoft-one-drive/38e11231-b45f-4afa-87cb-2cfdbb1e0e2e, snippet: Get a clear breakdown of Microsoft OneDrive pricing plans, compare options, and find the best fit for your team's budget and requirements., title: Microsoft OneDrive Pricing & Plans (2025 Guide), link: https://www.keevee.com/microsoft-onedrive-pricing, snippet: OneDrive lets you share files and collaborate on documents, and sync files to your computer. Learn more about OneDrive features, functionality, and pricing. OneDrive is included in Microsoft 365 and Office 365 plans, in SharePoint plans, and can also be purchased as a standalone plan., title: OneDrive service description - Service Descriptions | Microsoft Learn, link: https://learn.microsoft.com/en-us/office365/servicedescriptions/onedrive-for-business-service-description, snippet: Google Drive's Standard package comes in at $2.99 a month for 200 GB, but OneDrive offers 1 TB (five times more than what you get with Google) for $6.99 (just over twice the price) as part of its Microsoft 365 Personal package, meaning you get all the other Microsoft perks included, such as the desktop apps., title: Google Drive vs. Microsoft OneDrive: Which Is Best? - How-To Geek, link: https://www.howtogeek.com/google-drive-vs-microsoft-onedrive-which-is-best/\", name='duckduckgo_results_json', id='f0fde7e7-092d-4cc6-941f-3cffc31ca911', tool_call_id='40VuWPOkP', artifact=[{'snippet': 'Free Plan Price: Free Storage: 5 GB Features: Web and mobile versions of Word, Excel, PowerPoint, OneNote, OneDrive, and Outlook email and calendar. Purchase Link This link will take you to the Microsoft website where you can compare and purchase the plans that best suit your needs. If you have any other questions, feel free to ask. Best regards,', 'title': 'how to purchase a plan in microsoft one drive', 'link': 'https://answers.microsoft.com/en-us/msoffice/forum/all/how-to-purchase-a-plan-in-microsoft-one-drive/38e11231-b45f-4afa-87cb-2cfdbb1e0e2e'}, {'snippet': \"Get a clear breakdown of Microsoft OneDrive pricing plans, compare options, and find the best fit for your team's budget and requirements.\", 'title': 'Microsoft OneDrive Pricing & Plans (2025 Guide)', 'link': 'https://www.keevee.com/microsoft-onedrive-pricing'}, {'snippet': 'OneDrive lets you share files and collaborate on documents, and sync files to your computer. Learn more about OneDrive features, functionality, and pricing. OneDrive is included in Microsoft 365 and Office 365 plans, in SharePoint plans, and can also be purchased as a standalone plan.', 'title': 'OneDrive service description - Service Descriptions | Microsoft Learn', 'link': 'https://learn.microsoft.com/en-us/office365/servicedescriptions/onedrive-for-business-service-description'}, {'snippet': \"Google Drive's Standard package comes in at $2.99 a month for 200 GB, but OneDrive offers 1 TB (five times more than what you get with Google) for $6.99 (just over twice the price) as part of its Microsoft 365 Personal package, meaning you get all the other Microsoft perks included, such as the desktop apps.\", 'title': 'Google Drive vs. Microsoft OneDrive: Which Is Best? - How-To Geek', 'link': 'https://www.howtogeek.com/google-drive-vs-microsoft-onedrive-which-is-best/'}]),\n",
      "              ToolMessage(content='[About MadeUpCompany/Pricing/CloudMate Plans]: \\nOur secure and scalable cloud storage service, CloudMate, is available in the following plans:\\n- Basic: $9.99/month – 100GB storage, essential security features\\n- Professional: $29.99/month – 1TB storage, enhanced security, priority support\\n- Enterprise: Custom pricing – Unlimited storage, advanced compliance tools, dedicated account manager\\n\\n[About MadeUpCompany/Pricing/CloudMate Plans]: \\nOur secure and scalable cloud storage service, CloudMate, is available in the following plans:\\n- Basic: $9.99/month – 100GB storage, essential security features\\n- Professional: $29.99/month – 1TB storage, enhanced security, priority support\\n- Enterprise: Custom pricing – Unlimited storage, advanced compliance tools, dedicated account manager\\n\\n[About MadeUpCompany/Products and Services/CloudMate – Secure and Scalable Cloud Storage]: \\nCloudMate is our flagship cloud storage solution, designed for businesses of all sizes. Features include:\\n- ✅ Seamless data migration with automated backups\\n- ✅ Military-grade encryption and multi-factor authentication\\n- ✅ Role-based access control for enterprise security\\n- ✅ AI-powered file organization and search capabilities', name='retrieve_company_information', id='258e4faf-ddc2-425b-b065-55e02173df86', tool_call_id='D9TN1uAQ2')],\n",
      " 'remaining_steps': 22}\n",
      "\u001b[36;1m\u001b[1;3m[3:writes]\u001b[0m \u001b[1mFinished step 3 with writes to 1 channel:\n",
      "\u001b[0m- \u001b[33;1m\u001b[1;3mmessages\u001b[0m -> [AIMessage(content='', additional_kwargs={'tool_calls': [{'id': '3Q5nEij8P', 'type': 'function', 'function': {'name': 'get_exchange_rate', 'arguments': '{\"currency_from\": \"USD\", \"currency_to\": \"EUR\", \"currency_date\": \"latest\"}'}}]}, response_metadata={'token_usage': {'completion_tokens': 45, 'prompt_tokens': 1478, 'total_tokens': 1523}, 'model_name': 'mistralai/mistral-large', 'system_fingerprint': '', 'finish_reason': 'tool_calls'}, id='chatcmpl-0c2fce6465cb956fba72bc8dddbf0ef7', tool_calls=[{'name': 'get_exchange_rate', 'args': {'currency_from': 'USD', 'currency_to': 'EUR', 'currency_date': 'latest'}, 'id': '3Q5nEij8P', 'type': 'tool_call'}], usage_metadata={'input_tokens': 1478, 'output_tokens': 45, 'total_tokens': 1523})]\n",
      "\u001b[36;1m\u001b[1;3m[3:checkpoint]\u001b[0m \u001b[1mState at the end of step 3:\n",
      "\u001b[0m{'messages': [HumanMessage(content='Compare the price of CloudMate Professional from MadeUpCompany with the price of OneDrive from Microsoft. Find the price first and then convert it to euros.', additional_kwargs={}, response_metadata={}, id='c66857d5-95a9-489e-9df9-8c93707ec701'),\n",
      "              AIMessage(content='', additional_kwargs={'tool_calls': [{'id': '40VuWPOkP', 'type': 'function', 'function': {'name': 'duckduckgo_results_json', 'arguments': '{\"query\": \"price OneDrive Microsoft\"}'}}, {'id': 'D9TN1uAQ2', 'type': 'function', 'function': {'name': 'retrieve_company_information', 'arguments': '{\"query\": \"price CloudMate Professional\"}'}}]}, response_metadata={'token_usage': {'completion_tokens': 57, 'prompt_tokens': 538, 'total_tokens': 595}, 'model_name': 'mistralai/mistral-large', 'system_fingerprint': '', 'finish_reason': 'tool_calls'}, id='chatcmpl-c4c0e90c3faf318982d2d9390e6adc43', tool_calls=[{'name': 'duckduckgo_results_json', 'args': {'query': 'price OneDrive Microsoft'}, 'id': '40VuWPOkP', 'type': 'tool_call'}, {'name': 'retrieve_company_information', 'args': {'query': 'price CloudMate Professional'}, 'id': 'D9TN1uAQ2', 'type': 'tool_call'}], usage_metadata={'input_tokens': 538, 'output_tokens': 57, 'total_tokens': 595}),\n",
      "              ToolMessage(content=\"snippet: Free Plan Price: Free Storage: 5 GB Features: Web and mobile versions of Word, Excel, PowerPoint, OneNote, OneDrive, and Outlook email and calendar. Purchase Link This link will take you to the Microsoft website where you can compare and purchase the plans that best suit your needs. If you have any other questions, feel free to ask. Best regards,, title: how to purchase a plan in microsoft one drive, link: https://answers.microsoft.com/en-us/msoffice/forum/all/how-to-purchase-a-plan-in-microsoft-one-drive/38e11231-b45f-4afa-87cb-2cfdbb1e0e2e, snippet: Get a clear breakdown of Microsoft OneDrive pricing plans, compare options, and find the best fit for your team's budget and requirements., title: Microsoft OneDrive Pricing & Plans (2025 Guide), link: https://www.keevee.com/microsoft-onedrive-pricing, snippet: OneDrive lets you share files and collaborate on documents, and sync files to your computer. Learn more about OneDrive features, functionality, and pricing. OneDrive is included in Microsoft 365 and Office 365 plans, in SharePoint plans, and can also be purchased as a standalone plan., title: OneDrive service description - Service Descriptions | Microsoft Learn, link: https://learn.microsoft.com/en-us/office365/servicedescriptions/onedrive-for-business-service-description, snippet: Google Drive's Standard package comes in at $2.99 a month for 200 GB, but OneDrive offers 1 TB (five times more than what you get with Google) for $6.99 (just over twice the price) as part of its Microsoft 365 Personal package, meaning you get all the other Microsoft perks included, such as the desktop apps., title: Google Drive vs. Microsoft OneDrive: Which Is Best? - How-To Geek, link: https://www.howtogeek.com/google-drive-vs-microsoft-onedrive-which-is-best/\", name='duckduckgo_results_json', id='f0fde7e7-092d-4cc6-941f-3cffc31ca911', tool_call_id='40VuWPOkP', artifact=[{'snippet': 'Free Plan Price: Free Storage: 5 GB Features: Web and mobile versions of Word, Excel, PowerPoint, OneNote, OneDrive, and Outlook email and calendar. Purchase Link This link will take you to the Microsoft website where you can compare and purchase the plans that best suit your needs. If you have any other questions, feel free to ask. Best regards,', 'title': 'how to purchase a plan in microsoft one drive', 'link': 'https://answers.microsoft.com/en-us/msoffice/forum/all/how-to-purchase-a-plan-in-microsoft-one-drive/38e11231-b45f-4afa-87cb-2cfdbb1e0e2e'}, {'snippet': \"Get a clear breakdown of Microsoft OneDrive pricing plans, compare options, and find the best fit for your team's budget and requirements.\", 'title': 'Microsoft OneDrive Pricing & Plans (2025 Guide)', 'link': 'https://www.keevee.com/microsoft-onedrive-pricing'}, {'snippet': 'OneDrive lets you share files and collaborate on documents, and sync files to your computer. Learn more about OneDrive features, functionality, and pricing. OneDrive is included in Microsoft 365 and Office 365 plans, in SharePoint plans, and can also be purchased as a standalone plan.', 'title': 'OneDrive service description - Service Descriptions | Microsoft Learn', 'link': 'https://learn.microsoft.com/en-us/office365/servicedescriptions/onedrive-for-business-service-description'}, {'snippet': \"Google Drive's Standard package comes in at $2.99 a month for 200 GB, but OneDrive offers 1 TB (five times more than what you get with Google) for $6.99 (just over twice the price) as part of its Microsoft 365 Personal package, meaning you get all the other Microsoft perks included, such as the desktop apps.\", 'title': 'Google Drive vs. Microsoft OneDrive: Which Is Best? - How-To Geek', 'link': 'https://www.howtogeek.com/google-drive-vs-microsoft-onedrive-which-is-best/'}]),\n",
      "              ToolMessage(content='[About MadeUpCompany/Pricing/CloudMate Plans]: \\nOur secure and scalable cloud storage service, CloudMate, is available in the following plans:\\n- Basic: $9.99/month – 100GB storage, essential security features\\n- Professional: $29.99/month – 1TB storage, enhanced security, priority support\\n- Enterprise: Custom pricing – Unlimited storage, advanced compliance tools, dedicated account manager\\n\\n[About MadeUpCompany/Pricing/CloudMate Plans]: \\nOur secure and scalable cloud storage service, CloudMate, is available in the following plans:\\n- Basic: $9.99/month – 100GB storage, essential security features\\n- Professional: $29.99/month – 1TB storage, enhanced security, priority support\\n- Enterprise: Custom pricing – Unlimited storage, advanced compliance tools, dedicated account manager\\n\\n[About MadeUpCompany/Products and Services/CloudMate – Secure and Scalable Cloud Storage]: \\nCloudMate is our flagship cloud storage solution, designed for businesses of all sizes. Features include:\\n- ✅ Seamless data migration with automated backups\\n- ✅ Military-grade encryption and multi-factor authentication\\n- ✅ Role-based access control for enterprise security\\n- ✅ AI-powered file organization and search capabilities', name='retrieve_company_information', id='258e4faf-ddc2-425b-b065-55e02173df86', tool_call_id='D9TN1uAQ2'),\n",
      "              AIMessage(content='', additional_kwargs={'tool_calls': [{'id': '3Q5nEij8P', 'type': 'function', 'function': {'name': 'get_exchange_rate', 'arguments': '{\"currency_from\": \"USD\", \"currency_to\": \"EUR\", \"currency_date\": \"latest\"}'}}]}, response_metadata={'token_usage': {'completion_tokens': 45, 'prompt_tokens': 1478, 'total_tokens': 1523}, 'model_name': 'mistralai/mistral-large', 'system_fingerprint': '', 'finish_reason': 'tool_calls'}, id='chatcmpl-0c2fce6465cb956fba72bc8dddbf0ef7', tool_calls=[{'name': 'get_exchange_rate', 'args': {'currency_from': 'USD', 'currency_to': 'EUR', 'currency_date': 'latest'}, 'id': '3Q5nEij8P', 'type': 'tool_call'}], usage_metadata={'input_tokens': 1478, 'output_tokens': 45, 'total_tokens': 1523})]}\n",
      "\u001b[36;1m\u001b[1;3m[4:tasks]\u001b[0m \u001b[1mStarting 1 task for step 4:\n",
      "\u001b[0m- \u001b[32;1m\u001b[1;3mtools\u001b[0m -> {'is_last_step': False,\n",
      " 'messages': [HumanMessage(content='Compare the price of CloudMate Professional from MadeUpCompany with the price of OneDrive from Microsoft. Find the price first and then convert it to euros.', additional_kwargs={}, response_metadata={}, id='c66857d5-95a9-489e-9df9-8c93707ec701'),\n",
      "              AIMessage(content='', additional_kwargs={'tool_calls': [{'id': '40VuWPOkP', 'type': 'function', 'function': {'name': 'duckduckgo_results_json', 'arguments': '{\"query\": \"price OneDrive Microsoft\"}'}}, {'id': 'D9TN1uAQ2', 'type': 'function', 'function': {'name': 'retrieve_company_information', 'arguments': '{\"query\": \"price CloudMate Professional\"}'}}]}, response_metadata={'token_usage': {'completion_tokens': 57, 'prompt_tokens': 538, 'total_tokens': 595}, 'model_name': 'mistralai/mistral-large', 'system_fingerprint': '', 'finish_reason': 'tool_calls'}, id='chatcmpl-c4c0e90c3faf318982d2d9390e6adc43', tool_calls=[{'name': 'duckduckgo_results_json', 'args': {'query': 'price OneDrive Microsoft'}, 'id': '40VuWPOkP', 'type': 'tool_call'}, {'name': 'retrieve_company_information', 'args': {'query': 'price CloudMate Professional'}, 'id': 'D9TN1uAQ2', 'type': 'tool_call'}], usage_metadata={'input_tokens': 538, 'output_tokens': 57, 'total_tokens': 595}),\n",
      "              ToolMessage(content=\"snippet: Free Plan Price: Free Storage: 5 GB Features: Web and mobile versions of Word, Excel, PowerPoint, OneNote, OneDrive, and Outlook email and calendar. Purchase Link This link will take you to the Microsoft website where you can compare and purchase the plans that best suit your needs. If you have any other questions, feel free to ask. Best regards,, title: how to purchase a plan in microsoft one drive, link: https://answers.microsoft.com/en-us/msoffice/forum/all/how-to-purchase-a-plan-in-microsoft-one-drive/38e11231-b45f-4afa-87cb-2cfdbb1e0e2e, snippet: Get a clear breakdown of Microsoft OneDrive pricing plans, compare options, and find the best fit for your team's budget and requirements., title: Microsoft OneDrive Pricing & Plans (2025 Guide), link: https://www.keevee.com/microsoft-onedrive-pricing, snippet: OneDrive lets you share files and collaborate on documents, and sync files to your computer. Learn more about OneDrive features, functionality, and pricing. OneDrive is included in Microsoft 365 and Office 365 plans, in SharePoint plans, and can also be purchased as a standalone plan., title: OneDrive service description - Service Descriptions | Microsoft Learn, link: https://learn.microsoft.com/en-us/office365/servicedescriptions/onedrive-for-business-service-description, snippet: Google Drive's Standard package comes in at $2.99 a month for 200 GB, but OneDrive offers 1 TB (five times more than what you get with Google) for $6.99 (just over twice the price) as part of its Microsoft 365 Personal package, meaning you get all the other Microsoft perks included, such as the desktop apps., title: Google Drive vs. Microsoft OneDrive: Which Is Best? - How-To Geek, link: https://www.howtogeek.com/google-drive-vs-microsoft-onedrive-which-is-best/\", name='duckduckgo_results_json', id='f0fde7e7-092d-4cc6-941f-3cffc31ca911', tool_call_id='40VuWPOkP', artifact=[{'snippet': 'Free Plan Price: Free Storage: 5 GB Features: Web and mobile versions of Word, Excel, PowerPoint, OneNote, OneDrive, and Outlook email and calendar. Purchase Link This link will take you to the Microsoft website where you can compare and purchase the plans that best suit your needs. If you have any other questions, feel free to ask. Best regards,', 'title': 'how to purchase a plan in microsoft one drive', 'link': 'https://answers.microsoft.com/en-us/msoffice/forum/all/how-to-purchase-a-plan-in-microsoft-one-drive/38e11231-b45f-4afa-87cb-2cfdbb1e0e2e'}, {'snippet': \"Get a clear breakdown of Microsoft OneDrive pricing plans, compare options, and find the best fit for your team's budget and requirements.\", 'title': 'Microsoft OneDrive Pricing & Plans (2025 Guide)', 'link': 'https://www.keevee.com/microsoft-onedrive-pricing'}, {'snippet': 'OneDrive lets you share files and collaborate on documents, and sync files to your computer. Learn more about OneDrive features, functionality, and pricing. OneDrive is included in Microsoft 365 and Office 365 plans, in SharePoint plans, and can also be purchased as a standalone plan.', 'title': 'OneDrive service description - Service Descriptions | Microsoft Learn', 'link': 'https://learn.microsoft.com/en-us/office365/servicedescriptions/onedrive-for-business-service-description'}, {'snippet': \"Google Drive's Standard package comes in at $2.99 a month for 200 GB, but OneDrive offers 1 TB (five times more than what you get with Google) for $6.99 (just over twice the price) as part of its Microsoft 365 Personal package, meaning you get all the other Microsoft perks included, such as the desktop apps.\", 'title': 'Google Drive vs. Microsoft OneDrive: Which Is Best? - How-To Geek', 'link': 'https://www.howtogeek.com/google-drive-vs-microsoft-onedrive-which-is-best/'}]),\n",
      "              ToolMessage(content='[About MadeUpCompany/Pricing/CloudMate Plans]: \\nOur secure and scalable cloud storage service, CloudMate, is available in the following plans:\\n- Basic: $9.99/month – 100GB storage, essential security features\\n- Professional: $29.99/month – 1TB storage, enhanced security, priority support\\n- Enterprise: Custom pricing – Unlimited storage, advanced compliance tools, dedicated account manager\\n\\n[About MadeUpCompany/Pricing/CloudMate Plans]: \\nOur secure and scalable cloud storage service, CloudMate, is available in the following plans:\\n- Basic: $9.99/month – 100GB storage, essential security features\\n- Professional: $29.99/month – 1TB storage, enhanced security, priority support\\n- Enterprise: Custom pricing – Unlimited storage, advanced compliance tools, dedicated account manager\\n\\n[About MadeUpCompany/Products and Services/CloudMate – Secure and Scalable Cloud Storage]: \\nCloudMate is our flagship cloud storage solution, designed for businesses of all sizes. Features include:\\n- ✅ Seamless data migration with automated backups\\n- ✅ Military-grade encryption and multi-factor authentication\\n- ✅ Role-based access control for enterprise security\\n- ✅ AI-powered file organization and search capabilities', name='retrieve_company_information', id='258e4faf-ddc2-425b-b065-55e02173df86', tool_call_id='D9TN1uAQ2'),\n",
      "              AIMessage(content='', additional_kwargs={'tool_calls': [{'id': '3Q5nEij8P', 'type': 'function', 'function': {'name': 'get_exchange_rate', 'arguments': '{\"currency_from\": \"USD\", \"currency_to\": \"EUR\", \"currency_date\": \"latest\"}'}}]}, response_metadata={'token_usage': {'completion_tokens': 45, 'prompt_tokens': 1478, 'total_tokens': 1523}, 'model_name': 'mistralai/mistral-large', 'system_fingerprint': '', 'finish_reason': 'tool_calls'}, id='chatcmpl-0c2fce6465cb956fba72bc8dddbf0ef7', tool_calls=[{'name': 'get_exchange_rate', 'args': {'currency_from': 'USD', 'currency_to': 'EUR', 'currency_date': 'latest'}, 'id': '3Q5nEij8P', 'type': 'tool_call'}], usage_metadata={'input_tokens': 1478, 'output_tokens': 45, 'total_tokens': 1523})],\n",
      " 'remaining_steps': 21}\n",
      "\u001b[36;1m\u001b[1;3m[4:writes]\u001b[0m \u001b[1mFinished step 4 with writes to 1 channel:\n",
      "\u001b[0m- \u001b[33;1m\u001b[1;3mmessages\u001b[0m -> [ToolMessage(content='{\"amount\": 1.0, \"base\": \"USD\", \"date\": \"2025-04-15\", \"rates\": {\"EUR\": 0.88308}}', name='get_exchange_rate', tool_call_id='3Q5nEij8P')]\n",
      "\u001b[36;1m\u001b[1;3m[4:checkpoint]\u001b[0m \u001b[1mState at the end of step 4:\n",
      "\u001b[0m{'messages': [HumanMessage(content='Compare the price of CloudMate Professional from MadeUpCompany with the price of OneDrive from Microsoft. Find the price first and then convert it to euros.', additional_kwargs={}, response_metadata={}, id='c66857d5-95a9-489e-9df9-8c93707ec701'),\n",
      "              AIMessage(content='', additional_kwargs={'tool_calls': [{'id': '40VuWPOkP', 'type': 'function', 'function': {'name': 'duckduckgo_results_json', 'arguments': '{\"query\": \"price OneDrive Microsoft\"}'}}, {'id': 'D9TN1uAQ2', 'type': 'function', 'function': {'name': 'retrieve_company_information', 'arguments': '{\"query\": \"price CloudMate Professional\"}'}}]}, response_metadata={'token_usage': {'completion_tokens': 57, 'prompt_tokens': 538, 'total_tokens': 595}, 'model_name': 'mistralai/mistral-large', 'system_fingerprint': '', 'finish_reason': 'tool_calls'}, id='chatcmpl-c4c0e90c3faf318982d2d9390e6adc43', tool_calls=[{'name': 'duckduckgo_results_json', 'args': {'query': 'price OneDrive Microsoft'}, 'id': '40VuWPOkP', 'type': 'tool_call'}, {'name': 'retrieve_company_information', 'args': {'query': 'price CloudMate Professional'}, 'id': 'D9TN1uAQ2', 'type': 'tool_call'}], usage_metadata={'input_tokens': 538, 'output_tokens': 57, 'total_tokens': 595}),\n",
      "              ToolMessage(content=\"snippet: Free Plan Price: Free Storage: 5 GB Features: Web and mobile versions of Word, Excel, PowerPoint, OneNote, OneDrive, and Outlook email and calendar. Purchase Link This link will take you to the Microsoft website where you can compare and purchase the plans that best suit your needs. If you have any other questions, feel free to ask. Best regards,, title: how to purchase a plan in microsoft one drive, link: https://answers.microsoft.com/en-us/msoffice/forum/all/how-to-purchase-a-plan-in-microsoft-one-drive/38e11231-b45f-4afa-87cb-2cfdbb1e0e2e, snippet: Get a clear breakdown of Microsoft OneDrive pricing plans, compare options, and find the best fit for your team's budget and requirements., title: Microsoft OneDrive Pricing & Plans (2025 Guide), link: https://www.keevee.com/microsoft-onedrive-pricing, snippet: OneDrive lets you share files and collaborate on documents, and sync files to your computer. Learn more about OneDrive features, functionality, and pricing. OneDrive is included in Microsoft 365 and Office 365 plans, in SharePoint plans, and can also be purchased as a standalone plan., title: OneDrive service description - Service Descriptions | Microsoft Learn, link: https://learn.microsoft.com/en-us/office365/servicedescriptions/onedrive-for-business-service-description, snippet: Google Drive's Standard package comes in at $2.99 a month for 200 GB, but OneDrive offers 1 TB (five times more than what you get with Google) for $6.99 (just over twice the price) as part of its Microsoft 365 Personal package, meaning you get all the other Microsoft perks included, such as the desktop apps., title: Google Drive vs. Microsoft OneDrive: Which Is Best? - How-To Geek, link: https://www.howtogeek.com/google-drive-vs-microsoft-onedrive-which-is-best/\", name='duckduckgo_results_json', id='f0fde7e7-092d-4cc6-941f-3cffc31ca911', tool_call_id='40VuWPOkP', artifact=[{'snippet': 'Free Plan Price: Free Storage: 5 GB Features: Web and mobile versions of Word, Excel, PowerPoint, OneNote, OneDrive, and Outlook email and calendar. Purchase Link This link will take you to the Microsoft website where you can compare and purchase the plans that best suit your needs. If you have any other questions, feel free to ask. Best regards,', 'title': 'how to purchase a plan in microsoft one drive', 'link': 'https://answers.microsoft.com/en-us/msoffice/forum/all/how-to-purchase-a-plan-in-microsoft-one-drive/38e11231-b45f-4afa-87cb-2cfdbb1e0e2e'}, {'snippet': \"Get a clear breakdown of Microsoft OneDrive pricing plans, compare options, and find the best fit for your team's budget and requirements.\", 'title': 'Microsoft OneDrive Pricing & Plans (2025 Guide)', 'link': 'https://www.keevee.com/microsoft-onedrive-pricing'}, {'snippet': 'OneDrive lets you share files and collaborate on documents, and sync files to your computer. Learn more about OneDrive features, functionality, and pricing. OneDrive is included in Microsoft 365 and Office 365 plans, in SharePoint plans, and can also be purchased as a standalone plan.', 'title': 'OneDrive service description - Service Descriptions | Microsoft Learn', 'link': 'https://learn.microsoft.com/en-us/office365/servicedescriptions/onedrive-for-business-service-description'}, {'snippet': \"Google Drive's Standard package comes in at $2.99 a month for 200 GB, but OneDrive offers 1 TB (five times more than what you get with Google) for $6.99 (just over twice the price) as part of its Microsoft 365 Personal package, meaning you get all the other Microsoft perks included, such as the desktop apps.\", 'title': 'Google Drive vs. Microsoft OneDrive: Which Is Best? - How-To Geek', 'link': 'https://www.howtogeek.com/google-drive-vs-microsoft-onedrive-which-is-best/'}]),\n",
      "              ToolMessage(content='[About MadeUpCompany/Pricing/CloudMate Plans]: \\nOur secure and scalable cloud storage service, CloudMate, is available in the following plans:\\n- Basic: $9.99/month – 100GB storage, essential security features\\n- Professional: $29.99/month – 1TB storage, enhanced security, priority support\\n- Enterprise: Custom pricing – Unlimited storage, advanced compliance tools, dedicated account manager\\n\\n[About MadeUpCompany/Pricing/CloudMate Plans]: \\nOur secure and scalable cloud storage service, CloudMate, is available in the following plans:\\n- Basic: $9.99/month – 100GB storage, essential security features\\n- Professional: $29.99/month – 1TB storage, enhanced security, priority support\\n- Enterprise: Custom pricing – Unlimited storage, advanced compliance tools, dedicated account manager\\n\\n[About MadeUpCompany/Products and Services/CloudMate – Secure and Scalable Cloud Storage]: \\nCloudMate is our flagship cloud storage solution, designed for businesses of all sizes. Features include:\\n- ✅ Seamless data migration with automated backups\\n- ✅ Military-grade encryption and multi-factor authentication\\n- ✅ Role-based access control for enterprise security\\n- ✅ AI-powered file organization and search capabilities', name='retrieve_company_information', id='258e4faf-ddc2-425b-b065-55e02173df86', tool_call_id='D9TN1uAQ2'),\n",
      "              AIMessage(content='', additional_kwargs={'tool_calls': [{'id': '3Q5nEij8P', 'type': 'function', 'function': {'name': 'get_exchange_rate', 'arguments': '{\"currency_from\": \"USD\", \"currency_to\": \"EUR\", \"currency_date\": \"latest\"}'}}]}, response_metadata={'token_usage': {'completion_tokens': 45, 'prompt_tokens': 1478, 'total_tokens': 1523}, 'model_name': 'mistralai/mistral-large', 'system_fingerprint': '', 'finish_reason': 'tool_calls'}, id='chatcmpl-0c2fce6465cb956fba72bc8dddbf0ef7', tool_calls=[{'name': 'get_exchange_rate', 'args': {'currency_from': 'USD', 'currency_to': 'EUR', 'currency_date': 'latest'}, 'id': '3Q5nEij8P', 'type': 'tool_call'}], usage_metadata={'input_tokens': 1478, 'output_tokens': 45, 'total_tokens': 1523}),\n",
      "              ToolMessage(content='{\"amount\": 1.0, \"base\": \"USD\", \"date\": \"2025-04-15\", \"rates\": {\"EUR\": 0.88308}}', name='get_exchange_rate', id='d28422eb-4bf7-4314-9775-297a3052e6e1', tool_call_id='3Q5nEij8P')]}\n",
      "\u001b[36;1m\u001b[1;3m[5:tasks]\u001b[0m \u001b[1mStarting 1 task for step 5:\n",
      "\u001b[0m- \u001b[32;1m\u001b[1;3magent\u001b[0m -> {'is_last_step': False,\n",
      " 'messages': [HumanMessage(content='Compare the price of CloudMate Professional from MadeUpCompany with the price of OneDrive from Microsoft. Find the price first and then convert it to euros.', additional_kwargs={}, response_metadata={}, id='c66857d5-95a9-489e-9df9-8c93707ec701'),\n",
      "              AIMessage(content='', additional_kwargs={'tool_calls': [{'id': '40VuWPOkP', 'type': 'function', 'function': {'name': 'duckduckgo_results_json', 'arguments': '{\"query\": \"price OneDrive Microsoft\"}'}}, {'id': 'D9TN1uAQ2', 'type': 'function', 'function': {'name': 'retrieve_company_information', 'arguments': '{\"query\": \"price CloudMate Professional\"}'}}]}, response_metadata={'token_usage': {'completion_tokens': 57, 'prompt_tokens': 538, 'total_tokens': 595}, 'model_name': 'mistralai/mistral-large', 'system_fingerprint': '', 'finish_reason': 'tool_calls'}, id='chatcmpl-c4c0e90c3faf318982d2d9390e6adc43', tool_calls=[{'name': 'duckduckgo_results_json', 'args': {'query': 'price OneDrive Microsoft'}, 'id': '40VuWPOkP', 'type': 'tool_call'}, {'name': 'retrieve_company_information', 'args': {'query': 'price CloudMate Professional'}, 'id': 'D9TN1uAQ2', 'type': 'tool_call'}], usage_metadata={'input_tokens': 538, 'output_tokens': 57, 'total_tokens': 595}),\n",
      "              ToolMessage(content=\"snippet: Free Plan Price: Free Storage: 5 GB Features: Web and mobile versions of Word, Excel, PowerPoint, OneNote, OneDrive, and Outlook email and calendar. Purchase Link This link will take you to the Microsoft website where you can compare and purchase the plans that best suit your needs. If you have any other questions, feel free to ask. Best regards,, title: how to purchase a plan in microsoft one drive, link: https://answers.microsoft.com/en-us/msoffice/forum/all/how-to-purchase-a-plan-in-microsoft-one-drive/38e11231-b45f-4afa-87cb-2cfdbb1e0e2e, snippet: Get a clear breakdown of Microsoft OneDrive pricing plans, compare options, and find the best fit for your team's budget and requirements., title: Microsoft OneDrive Pricing & Plans (2025 Guide), link: https://www.keevee.com/microsoft-onedrive-pricing, snippet: OneDrive lets you share files and collaborate on documents, and sync files to your computer. Learn more about OneDrive features, functionality, and pricing. OneDrive is included in Microsoft 365 and Office 365 plans, in SharePoint plans, and can also be purchased as a standalone plan., title: OneDrive service description - Service Descriptions | Microsoft Learn, link: https://learn.microsoft.com/en-us/office365/servicedescriptions/onedrive-for-business-service-description, snippet: Google Drive's Standard package comes in at $2.99 a month for 200 GB, but OneDrive offers 1 TB (five times more than what you get with Google) for $6.99 (just over twice the price) as part of its Microsoft 365 Personal package, meaning you get all the other Microsoft perks included, such as the desktop apps., title: Google Drive vs. Microsoft OneDrive: Which Is Best? - How-To Geek, link: https://www.howtogeek.com/google-drive-vs-microsoft-onedrive-which-is-best/\", name='duckduckgo_results_json', id='f0fde7e7-092d-4cc6-941f-3cffc31ca911', tool_call_id='40VuWPOkP', artifact=[{'snippet': 'Free Plan Price: Free Storage: 5 GB Features: Web and mobile versions of Word, Excel, PowerPoint, OneNote, OneDrive, and Outlook email and calendar. Purchase Link This link will take you to the Microsoft website where you can compare and purchase the plans that best suit your needs. If you have any other questions, feel free to ask. Best regards,', 'title': 'how to purchase a plan in microsoft one drive', 'link': 'https://answers.microsoft.com/en-us/msoffice/forum/all/how-to-purchase-a-plan-in-microsoft-one-drive/38e11231-b45f-4afa-87cb-2cfdbb1e0e2e'}, {'snippet': \"Get a clear breakdown of Microsoft OneDrive pricing plans, compare options, and find the best fit for your team's budget and requirements.\", 'title': 'Microsoft OneDrive Pricing & Plans (2025 Guide)', 'link': 'https://www.keevee.com/microsoft-onedrive-pricing'}, {'snippet': 'OneDrive lets you share files and collaborate on documents, and sync files to your computer. Learn more about OneDrive features, functionality, and pricing. OneDrive is included in Microsoft 365 and Office 365 plans, in SharePoint plans, and can also be purchased as a standalone plan.', 'title': 'OneDrive service description - Service Descriptions | Microsoft Learn', 'link': 'https://learn.microsoft.com/en-us/office365/servicedescriptions/onedrive-for-business-service-description'}, {'snippet': \"Google Drive's Standard package comes in at $2.99 a month for 200 GB, but OneDrive offers 1 TB (five times more than what you get with Google) for $6.99 (just over twice the price) as part of its Microsoft 365 Personal package, meaning you get all the other Microsoft perks included, such as the desktop apps.\", 'title': 'Google Drive vs. Microsoft OneDrive: Which Is Best? - How-To Geek', 'link': 'https://www.howtogeek.com/google-drive-vs-microsoft-onedrive-which-is-best/'}]),\n",
      "              ToolMessage(content='[About MadeUpCompany/Pricing/CloudMate Plans]: \\nOur secure and scalable cloud storage service, CloudMate, is available in the following plans:\\n- Basic: $9.99/month – 100GB storage, essential security features\\n- Professional: $29.99/month – 1TB storage, enhanced security, priority support\\n- Enterprise: Custom pricing – Unlimited storage, advanced compliance tools, dedicated account manager\\n\\n[About MadeUpCompany/Pricing/CloudMate Plans]: \\nOur secure and scalable cloud storage service, CloudMate, is available in the following plans:\\n- Basic: $9.99/month – 100GB storage, essential security features\\n- Professional: $29.99/month – 1TB storage, enhanced security, priority support\\n- Enterprise: Custom pricing – Unlimited storage, advanced compliance tools, dedicated account manager\\n\\n[About MadeUpCompany/Products and Services/CloudMate – Secure and Scalable Cloud Storage]: \\nCloudMate is our flagship cloud storage solution, designed for businesses of all sizes. Features include:\\n- ✅ Seamless data migration with automated backups\\n- ✅ Military-grade encryption and multi-factor authentication\\n- ✅ Role-based access control for enterprise security\\n- ✅ AI-powered file organization and search capabilities', name='retrieve_company_information', id='258e4faf-ddc2-425b-b065-55e02173df86', tool_call_id='D9TN1uAQ2'),\n",
      "              AIMessage(content='', additional_kwargs={'tool_calls': [{'id': '3Q5nEij8P', 'type': 'function', 'function': {'name': 'get_exchange_rate', 'arguments': '{\"currency_from\": \"USD\", \"currency_to\": \"EUR\", \"currency_date\": \"latest\"}'}}]}, response_metadata={'token_usage': {'completion_tokens': 45, 'prompt_tokens': 1478, 'total_tokens': 1523}, 'model_name': 'mistralai/mistral-large', 'system_fingerprint': '', 'finish_reason': 'tool_calls'}, id='chatcmpl-0c2fce6465cb956fba72bc8dddbf0ef7', tool_calls=[{'name': 'get_exchange_rate', 'args': {'currency_from': 'USD', 'currency_to': 'EUR', 'currency_date': 'latest'}, 'id': '3Q5nEij8P', 'type': 'tool_call'}], usage_metadata={'input_tokens': 1478, 'output_tokens': 45, 'total_tokens': 1523}),\n",
      "              ToolMessage(content='{\"amount\": 1.0, \"base\": \"USD\", \"date\": \"2025-04-15\", \"rates\": {\"EUR\": 0.88308}}', name='get_exchange_rate', id='d28422eb-4bf7-4314-9775-297a3052e6e1', tool_call_id='3Q5nEij8P')],\n",
      " 'remaining_steps': 20}\n",
      "\u001b[36;1m\u001b[1;3m[5:writes]\u001b[0m \u001b[1mFinished step 5 with writes to 1 channel:\n",
      "\u001b[0m- \u001b[33;1m\u001b[1;3mmessages\u001b[0m -> [AIMessage(content=\" CloudMate Professional from MadeUpCompany costs $29.99/month and the converted amount in euros is €26.47. Microsoft's OneDrive stands at a lower price point, offering plans starting from free to more advanced options that come with Microsoft 365 subscriptions, such as the Personal package at $6.99/month for 1 TB of storage.\\n\\nThis comparison highlights that while CloudMate Professional provides a premium service with enhanced security and priority support, OneDrive offers significant value with its integrated Microsoft 365 plans, making it a cost-effective choice for users needing comprehensive office tools along with cloud storage.\", additional_kwargs={}, response_metadata={'token_usage': {'completion_tokens': 143, 'prompt_tokens': 1602, 'total_tokens': 1745}, 'model_name': 'mistralai/mistral-large', 'system_fingerprint': '', 'finish_reason': 'stop'}, id='chatcmpl-1c90238c4c939dd5636a0df2870457bb', usage_metadata={'input_tokens': 1602, 'output_tokens': 143, 'total_tokens': 1745})]\n",
      "\u001b[36;1m\u001b[1;3m[5:checkpoint]\u001b[0m \u001b[1mState at the end of step 5:\n",
      "\u001b[0m{'messages': [HumanMessage(content='Compare the price of CloudMate Professional from MadeUpCompany with the price of OneDrive from Microsoft. Find the price first and then convert it to euros.', additional_kwargs={}, response_metadata={}, id='c66857d5-95a9-489e-9df9-8c93707ec701'),\n",
      "              AIMessage(content='', additional_kwargs={'tool_calls': [{'id': '40VuWPOkP', 'type': 'function', 'function': {'name': 'duckduckgo_results_json', 'arguments': '{\"query\": \"price OneDrive Microsoft\"}'}}, {'id': 'D9TN1uAQ2', 'type': 'function', 'function': {'name': 'retrieve_company_information', 'arguments': '{\"query\": \"price CloudMate Professional\"}'}}]}, response_metadata={'token_usage': {'completion_tokens': 57, 'prompt_tokens': 538, 'total_tokens': 595}, 'model_name': 'mistralai/mistral-large', 'system_fingerprint': '', 'finish_reason': 'tool_calls'}, id='chatcmpl-c4c0e90c3faf318982d2d9390e6adc43', tool_calls=[{'name': 'duckduckgo_results_json', 'args': {'query': 'price OneDrive Microsoft'}, 'id': '40VuWPOkP', 'type': 'tool_call'}, {'name': 'retrieve_company_information', 'args': {'query': 'price CloudMate Professional'}, 'id': 'D9TN1uAQ2', 'type': 'tool_call'}], usage_metadata={'input_tokens': 538, 'output_tokens': 57, 'total_tokens': 595}),\n",
      "              ToolMessage(content=\"snippet: Free Plan Price: Free Storage: 5 GB Features: Web and mobile versions of Word, Excel, PowerPoint, OneNote, OneDrive, and Outlook email and calendar. Purchase Link This link will take you to the Microsoft website where you can compare and purchase the plans that best suit your needs. If you have any other questions, feel free to ask. Best regards,, title: how to purchase a plan in microsoft one drive, link: https://answers.microsoft.com/en-us/msoffice/forum/all/how-to-purchase-a-plan-in-microsoft-one-drive/38e11231-b45f-4afa-87cb-2cfdbb1e0e2e, snippet: Get a clear breakdown of Microsoft OneDrive pricing plans, compare options, and find the best fit for your team's budget and requirements., title: Microsoft OneDrive Pricing & Plans (2025 Guide), link: https://www.keevee.com/microsoft-onedrive-pricing, snippet: OneDrive lets you share files and collaborate on documents, and sync files to your computer. Learn more about OneDrive features, functionality, and pricing. OneDrive is included in Microsoft 365 and Office 365 plans, in SharePoint plans, and can also be purchased as a standalone plan., title: OneDrive service description - Service Descriptions | Microsoft Learn, link: https://learn.microsoft.com/en-us/office365/servicedescriptions/onedrive-for-business-service-description, snippet: Google Drive's Standard package comes in at $2.99 a month for 200 GB, but OneDrive offers 1 TB (five times more than what you get with Google) for $6.99 (just over twice the price) as part of its Microsoft 365 Personal package, meaning you get all the other Microsoft perks included, such as the desktop apps., title: Google Drive vs. Microsoft OneDrive: Which Is Best? - How-To Geek, link: https://www.howtogeek.com/google-drive-vs-microsoft-onedrive-which-is-best/\", name='duckduckgo_results_json', id='f0fde7e7-092d-4cc6-941f-3cffc31ca911', tool_call_id='40VuWPOkP', artifact=[{'snippet': 'Free Plan Price: Free Storage: 5 GB Features: Web and mobile versions of Word, Excel, PowerPoint, OneNote, OneDrive, and Outlook email and calendar. Purchase Link This link will take you to the Microsoft website where you can compare and purchase the plans that best suit your needs. If you have any other questions, feel free to ask. Best regards,', 'title': 'how to purchase a plan in microsoft one drive', 'link': 'https://answers.microsoft.com/en-us/msoffice/forum/all/how-to-purchase-a-plan-in-microsoft-one-drive/38e11231-b45f-4afa-87cb-2cfdbb1e0e2e'}, {'snippet': \"Get a clear breakdown of Microsoft OneDrive pricing plans, compare options, and find the best fit for your team's budget and requirements.\", 'title': 'Microsoft OneDrive Pricing & Plans (2025 Guide)', 'link': 'https://www.keevee.com/microsoft-onedrive-pricing'}, {'snippet': 'OneDrive lets you share files and collaborate on documents, and sync files to your computer. Learn more about OneDrive features, functionality, and pricing. OneDrive is included in Microsoft 365 and Office 365 plans, in SharePoint plans, and can also be purchased as a standalone plan.', 'title': 'OneDrive service description - Service Descriptions | Microsoft Learn', 'link': 'https://learn.microsoft.com/en-us/office365/servicedescriptions/onedrive-for-business-service-description'}, {'snippet': \"Google Drive's Standard package comes in at $2.99 a month for 200 GB, but OneDrive offers 1 TB (five times more than what you get with Google) for $6.99 (just over twice the price) as part of its Microsoft 365 Personal package, meaning you get all the other Microsoft perks included, such as the desktop apps.\", 'title': 'Google Drive vs. Microsoft OneDrive: Which Is Best? - How-To Geek', 'link': 'https://www.howtogeek.com/google-drive-vs-microsoft-onedrive-which-is-best/'}]),\n",
      "              ToolMessage(content='[About MadeUpCompany/Pricing/CloudMate Plans]: \\nOur secure and scalable cloud storage service, CloudMate, is available in the following plans:\\n- Basic: $9.99/month – 100GB storage, essential security features\\n- Professional: $29.99/month – 1TB storage, enhanced security, priority support\\n- Enterprise: Custom pricing – Unlimited storage, advanced compliance tools, dedicated account manager\\n\\n[About MadeUpCompany/Pricing/CloudMate Plans]: \\nOur secure and scalable cloud storage service, CloudMate, is available in the following plans:\\n- Basic: $9.99/month – 100GB storage, essential security features\\n- Professional: $29.99/month – 1TB storage, enhanced security, priority support\\n- Enterprise: Custom pricing – Unlimited storage, advanced compliance tools, dedicated account manager\\n\\n[About MadeUpCompany/Products and Services/CloudMate – Secure and Scalable Cloud Storage]: \\nCloudMate is our flagship cloud storage solution, designed for businesses of all sizes. Features include:\\n- ✅ Seamless data migration with automated backups\\n- ✅ Military-grade encryption and multi-factor authentication\\n- ✅ Role-based access control for enterprise security\\n- ✅ AI-powered file organization and search capabilities', name='retrieve_company_information', id='258e4faf-ddc2-425b-b065-55e02173df86', tool_call_id='D9TN1uAQ2'),\n",
      "              AIMessage(content='', additional_kwargs={'tool_calls': [{'id': '3Q5nEij8P', 'type': 'function', 'function': {'name': 'get_exchange_rate', 'arguments': '{\"currency_from\": \"USD\", \"currency_to\": \"EUR\", \"currency_date\": \"latest\"}'}}]}, response_metadata={'token_usage': {'completion_tokens': 45, 'prompt_tokens': 1478, 'total_tokens': 1523}, 'model_name': 'mistralai/mistral-large', 'system_fingerprint': '', 'finish_reason': 'tool_calls'}, id='chatcmpl-0c2fce6465cb956fba72bc8dddbf0ef7', tool_calls=[{'name': 'get_exchange_rate', 'args': {'currency_from': 'USD', 'currency_to': 'EUR', 'currency_date': 'latest'}, 'id': '3Q5nEij8P', 'type': 'tool_call'}], usage_metadata={'input_tokens': 1478, 'output_tokens': 45, 'total_tokens': 1523}),\n",
      "              ToolMessage(content='{\"amount\": 1.0, \"base\": \"USD\", \"date\": \"2025-04-15\", \"rates\": {\"EUR\": 0.88308}}', name='get_exchange_rate', id='d28422eb-4bf7-4314-9775-297a3052e6e1', tool_call_id='3Q5nEij8P'),\n",
      "              AIMessage(content=\" CloudMate Professional from MadeUpCompany costs $29.99/month and the converted amount in euros is €26.47. Microsoft's OneDrive stands at a lower price point, offering plans starting from free to more advanced options that come with Microsoft 365 subscriptions, such as the Personal package at $6.99/month for 1 TB of storage.\\n\\nThis comparison highlights that while CloudMate Professional provides a premium service with enhanced security and priority support, OneDrive offers significant value with its integrated Microsoft 365 plans, making it a cost-effective choice for users needing comprehensive office tools along with cloud storage.\", additional_kwargs={}, response_metadata={'token_usage': {'completion_tokens': 143, 'prompt_tokens': 1602, 'total_tokens': 1745}, 'model_name': 'mistralai/mistral-large', 'system_fingerprint': '', 'finish_reason': 'stop'}, id='chatcmpl-1c90238c4c939dd5636a0df2870457bb', usage_metadata={'input_tokens': 1602, 'output_tokens': 143, 'total_tokens': 1745})]}\n"
     ]
    }
   ],
   "source": [
    "response = graph.invoke(\n",
    "    {\n",
    "        \"messages\": [\n",
    "            (\n",
    "                \"user\", \"Compare the price of CloudMate Professional from MadeUpCompany with the price of OneDrive from Microsoft. Find the price first and then convert it to euros.\"\n",
    "            )\n",
    "        ],\n",
    "    },\n",
    "    debug=True,\n",
    "    \n",
    ")"
   ]
  },
  {
   "cell_type": "code",
   "execution_count": 21,
   "metadata": {},
   "outputs": [
    {
     "data": {
      "text/plain": [
       "\" CloudMate Professional from MadeUpCompany costs $29.99/month and the converted amount in euros is €26.47. Microsoft's OneDrive stands at a lower price point, offering plans starting from free to more advanced options that come with Microsoft 365 subscriptions, such as the Personal package at $6.99/month for 1 TB of storage.\\n\\nThis comparison highlights that while CloudMate Professional provides a premium service with enhanced security and priority support, OneDrive offers significant value with its integrated Microsoft 365 plans, making it a cost-effective choice for users needing comprehensive office tools along with cloud storage.\""
      ]
     },
     "execution_count": 21,
     "metadata": {},
     "output_type": "execute_result"
    }
   ],
   "source": [
    "response[\"messages\"][-1].content"
   ]
  },
  {
   "cell_type": "markdown",
   "metadata": {},
   "source": [
    "### Calculator Tool"
   ]
  },
  {
   "cell_type": "code",
   "execution_count": 22,
   "metadata": {},
   "outputs": [],
   "source": [
    "@tool\n",
    "def calculator(expression: str) -> str:\n",
    "    \"\"\"Evaluate a mathematical expression and return the result.\"\"\"\n",
    "    try:\n",
    "        result = eval(expression)\n",
    "        return f\"The result of '{expression}' is {result}.\"\n",
    "    except Exception as e:\n",
    "        return f\"Error in calculation: {e}\""
   ]
  },
  {
   "cell_type": "code",
   "execution_count": 24,
   "metadata": {},
   "outputs": [],
   "source": [
    "# Add the new tools to the existing tools list\n",
    "tools_for_agent.extend([calculator])\n",
    "\n",
    "# Recreate the agent with the updated tools\n",
    "graph = create_react_agent(chat_model, tools=tools_for_agent, debug=True)"
   ]
  },
  {
   "cell_type": "code",
   "execution_count": 25,
   "metadata": {},
   "outputs": [
    {
     "name": "stdout",
     "output_type": "stream",
     "text": [
      "\u001b[36;1m\u001b[1;3m[-1:checkpoint]\u001b[0m \u001b[1mState at the end of step -1:\n",
      "\u001b[0m{'messages': []}\n",
      "\u001b[36;1m\u001b[1;3m[0:tasks]\u001b[0m \u001b[1mStarting 1 task for step 0:\n",
      "\u001b[0m- \u001b[32;1m\u001b[1;3m__start__\u001b[0m -> {'messages': [('user', 'What is 25 * 4 + 10? Use the calculator.')]}\n",
      "\u001b[36;1m\u001b[1;3m[0:writes]\u001b[0m \u001b[1mFinished step 0 with writes to 1 channel:\n",
      "\u001b[0m- \u001b[33;1m\u001b[1;3mmessages\u001b[0m -> [('user', 'What is 25 * 4 + 10? Use the calculator.')]\n",
      "\u001b[36;1m\u001b[1;3m[0:checkpoint]\u001b[0m \u001b[1mState at the end of step 0:\n",
      "\u001b[0m{'messages': [HumanMessage(content='What is 25 * 4 + 10? Use the calculator.', additional_kwargs={}, response_metadata={}, id='1e72b2fc-39f8-44d5-b61d-ac79459efb2a')]}\n",
      "\u001b[36;1m\u001b[1;3m[1:tasks]\u001b[0m \u001b[1mStarting 1 task for step 1:\n",
      "\u001b[0m- \u001b[32;1m\u001b[1;3magent\u001b[0m -> {'is_last_step': False,\n",
      " 'messages': [HumanMessage(content='What is 25 * 4 + 10? Use the calculator.', additional_kwargs={}, response_metadata={}, id='1e72b2fc-39f8-44d5-b61d-ac79459efb2a')],\n",
      " 'remaining_steps': 24}\n",
      "\u001b[36;1m\u001b[1;3m[1:writes]\u001b[0m \u001b[1mFinished step 1 with writes to 1 channel:\n",
      "\u001b[0m- \u001b[33;1m\u001b[1;3mmessages\u001b[0m -> [AIMessage(content='', additional_kwargs={'tool_calls': [{'id': '4WdAFxsZx', 'type': 'function', 'function': {'name': 'calculator', 'arguments': '{\"expression\": \"25 * 4 + 10\"}'}}]}, response_metadata={'token_usage': {'completion_tokens': 30, 'prompt_tokens': 582, 'total_tokens': 612}, 'model_name': 'mistralai/mistral-large', 'system_fingerprint': '', 'finish_reason': 'tool_calls'}, id='chatcmpl-8ee0b05966aba4da68f12f3f8695927b', tool_calls=[{'name': 'calculator', 'args': {'expression': '25 * 4 + 10'}, 'id': '4WdAFxsZx', 'type': 'tool_call'}], usage_metadata={'input_tokens': 582, 'output_tokens': 30, 'total_tokens': 612})]\n",
      "\u001b[36;1m\u001b[1;3m[1:checkpoint]\u001b[0m \u001b[1mState at the end of step 1:\n",
      "\u001b[0m{'messages': [HumanMessage(content='What is 25 * 4 + 10? Use the calculator.', additional_kwargs={}, response_metadata={}, id='1e72b2fc-39f8-44d5-b61d-ac79459efb2a'),\n",
      "              AIMessage(content='', additional_kwargs={'tool_calls': [{'id': '4WdAFxsZx', 'type': 'function', 'function': {'name': 'calculator', 'arguments': '{\"expression\": \"25 * 4 + 10\"}'}}]}, response_metadata={'token_usage': {'completion_tokens': 30, 'prompt_tokens': 582, 'total_tokens': 612}, 'model_name': 'mistralai/mistral-large', 'system_fingerprint': '', 'finish_reason': 'tool_calls'}, id='chatcmpl-8ee0b05966aba4da68f12f3f8695927b', tool_calls=[{'name': 'calculator', 'args': {'expression': '25 * 4 + 10'}, 'id': '4WdAFxsZx', 'type': 'tool_call'}], usage_metadata={'input_tokens': 582, 'output_tokens': 30, 'total_tokens': 612})]}\n",
      "\u001b[36;1m\u001b[1;3m[2:tasks]\u001b[0m \u001b[1mStarting 1 task for step 2:\n",
      "\u001b[0m- \u001b[32;1m\u001b[1;3mtools\u001b[0m -> {'is_last_step': False,\n",
      " 'messages': [HumanMessage(content='What is 25 * 4 + 10? Use the calculator.', additional_kwargs={}, response_metadata={}, id='1e72b2fc-39f8-44d5-b61d-ac79459efb2a'),\n",
      "              AIMessage(content='', additional_kwargs={'tool_calls': [{'id': '4WdAFxsZx', 'type': 'function', 'function': {'name': 'calculator', 'arguments': '{\"expression\": \"25 * 4 + 10\"}'}}]}, response_metadata={'token_usage': {'completion_tokens': 30, 'prompt_tokens': 582, 'total_tokens': 612}, 'model_name': 'mistralai/mistral-large', 'system_fingerprint': '', 'finish_reason': 'tool_calls'}, id='chatcmpl-8ee0b05966aba4da68f12f3f8695927b', tool_calls=[{'name': 'calculator', 'args': {'expression': '25 * 4 + 10'}, 'id': '4WdAFxsZx', 'type': 'tool_call'}], usage_metadata={'input_tokens': 582, 'output_tokens': 30, 'total_tokens': 612})],\n",
      " 'remaining_steps': 23}\n",
      "\u001b[36;1m\u001b[1;3m[2:writes]\u001b[0m \u001b[1mFinished step 2 with writes to 1 channel:\n",
      "\u001b[0m- \u001b[33;1m\u001b[1;3mmessages\u001b[0m -> [ToolMessage(content=\"The result of '25 * 4 + 10' is 110.\", name='calculator', tool_call_id='4WdAFxsZx')]\n",
      "\u001b[36;1m\u001b[1;3m[2:checkpoint]\u001b[0m \u001b[1mState at the end of step 2:\n",
      "\u001b[0m{'messages': [HumanMessage(content='What is 25 * 4 + 10? Use the calculator.', additional_kwargs={}, response_metadata={}, id='1e72b2fc-39f8-44d5-b61d-ac79459efb2a'),\n",
      "              AIMessage(content='', additional_kwargs={'tool_calls': [{'id': '4WdAFxsZx', 'type': 'function', 'function': {'name': 'calculator', 'arguments': '{\"expression\": \"25 * 4 + 10\"}'}}]}, response_metadata={'token_usage': {'completion_tokens': 30, 'prompt_tokens': 582, 'total_tokens': 612}, 'model_name': 'mistralai/mistral-large', 'system_fingerprint': '', 'finish_reason': 'tool_calls'}, id='chatcmpl-8ee0b05966aba4da68f12f3f8695927b', tool_calls=[{'name': 'calculator', 'args': {'expression': '25 * 4 + 10'}, 'id': '4WdAFxsZx', 'type': 'tool_call'}], usage_metadata={'input_tokens': 582, 'output_tokens': 30, 'total_tokens': 612}),\n",
      "              ToolMessage(content=\"The result of '25 * 4 + 10' is 110.\", name='calculator', id='05ff7571-943a-4bd3-a938-46c084963cdd', tool_call_id='4WdAFxsZx')]}\n",
      "\u001b[36;1m\u001b[1;3m[3:tasks]\u001b[0m \u001b[1mStarting 1 task for step 3:\n",
      "\u001b[0m- \u001b[32;1m\u001b[1;3magent\u001b[0m -> {'is_last_step': False,\n",
      " 'messages': [HumanMessage(content='What is 25 * 4 + 10? Use the calculator.', additional_kwargs={}, response_metadata={}, id='1e72b2fc-39f8-44d5-b61d-ac79459efb2a'),\n",
      "              AIMessage(content='', additional_kwargs={'tool_calls': [{'id': '4WdAFxsZx', 'type': 'function', 'function': {'name': 'calculator', 'arguments': '{\"expression\": \"25 * 4 + 10\"}'}}]}, response_metadata={'token_usage': {'completion_tokens': 30, 'prompt_tokens': 582, 'total_tokens': 612}, 'model_name': 'mistralai/mistral-large', 'system_fingerprint': '', 'finish_reason': 'tool_calls'}, id='chatcmpl-8ee0b05966aba4da68f12f3f8695927b', tool_calls=[{'name': 'calculator', 'args': {'expression': '25 * 4 + 10'}, 'id': '4WdAFxsZx', 'type': 'tool_call'}], usage_metadata={'input_tokens': 582, 'output_tokens': 30, 'total_tokens': 612}),\n",
      "              ToolMessage(content=\"The result of '25 * 4 + 10' is 110.\", name='calculator', id='05ff7571-943a-4bd3-a938-46c084963cdd', tool_call_id='4WdAFxsZx')],\n",
      " 'remaining_steps': 22}\n",
      "\u001b[36;1m\u001b[1;3m[3:writes]\u001b[0m \u001b[1mFinished step 3 with writes to 1 channel:\n",
      "\u001b[0m- \u001b[33;1m\u001b[1;3mmessages\u001b[0m -> [AIMessage(content=\" The result of '25 * 4 + 10' is 110.\", additional_kwargs={}, response_metadata={'token_usage': {'completion_tokens': 21, 'prompt_tokens': 662, 'total_tokens': 683}, 'model_name': 'mistralai/mistral-large', 'system_fingerprint': '', 'finish_reason': 'stop'}, id='chatcmpl-8685eb59a945eff3c2ef44b2fcfc546f', usage_metadata={'input_tokens': 662, 'output_tokens': 21, 'total_tokens': 683})]\n",
      "\u001b[36;1m\u001b[1;3m[3:checkpoint]\u001b[0m \u001b[1mState at the end of step 3:\n",
      "\u001b[0m{'messages': [HumanMessage(content='What is 25 * 4 + 10? Use the calculator.', additional_kwargs={}, response_metadata={}, id='1e72b2fc-39f8-44d5-b61d-ac79459efb2a'),\n",
      "              AIMessage(content='', additional_kwargs={'tool_calls': [{'id': '4WdAFxsZx', 'type': 'function', 'function': {'name': 'calculator', 'arguments': '{\"expression\": \"25 * 4 + 10\"}'}}]}, response_metadata={'token_usage': {'completion_tokens': 30, 'prompt_tokens': 582, 'total_tokens': 612}, 'model_name': 'mistralai/mistral-large', 'system_fingerprint': '', 'finish_reason': 'tool_calls'}, id='chatcmpl-8ee0b05966aba4da68f12f3f8695927b', tool_calls=[{'name': 'calculator', 'args': {'expression': '25 * 4 + 10'}, 'id': '4WdAFxsZx', 'type': 'tool_call'}], usage_metadata={'input_tokens': 582, 'output_tokens': 30, 'total_tokens': 612}),\n",
      "              ToolMessage(content=\"The result of '25 * 4 + 10' is 110.\", name='calculator', id='05ff7571-943a-4bd3-a938-46c084963cdd', tool_call_id='4WdAFxsZx'),\n",
      "              AIMessage(content=\" The result of '25 * 4 + 10' is 110.\", additional_kwargs={}, response_metadata={'token_usage': {'completion_tokens': 21, 'prompt_tokens': 662, 'total_tokens': 683}, 'model_name': 'mistralai/mistral-large', 'system_fingerprint': '', 'finish_reason': 'stop'}, id='chatcmpl-8685eb59a945eff3c2ef44b2fcfc546f', usage_metadata={'input_tokens': 662, 'output_tokens': 21, 'total_tokens': 683})]}\n"
     ]
    },
    {
     "data": {
      "text/plain": [
       "\" The result of '25 * 4 + 10' is 110.\""
      ]
     },
     "execution_count": 25,
     "metadata": {},
     "output_type": "execute_result"
    }
   ],
   "source": [
    "response = graph.invoke(\n",
    "    {\n",
    "        \"messages\": [\n",
    "            (\"user\", \"What is 25 * 4 + 10? Use the calculator.\"),\n",
    "        ],\n",
    "    },\n",
    "    debug=True,\n",
    ")\n",
    "\n",
    "response[\"messages\"][-1].content"
   ]
  },
  {
   "cell_type": "markdown",
   "metadata": {},
   "source": [
    "### Reflections on Results and Hyperparameters\n",
    "\n",
    "**What’s Working Well**\n",
    "- Correct tool use: The agent successfully chains tool calls (e.g., addition and currency conversion) to solve multi-step queries\n",
    "- Chain of reasoning: Tasks are decomposed effectively, demonstrating that the agent follows logical steps to reach answers\n",
    "- Tool integration: Integration of tools such as the `get_exchange_rate` API and the vector-based retriever works reliably\n",
    "\n",
    "**Key Hyperparameters and Their Importance**\n",
    "\n",
    "1. `k` in Retriever (`search_kwargs={\"k\": 5}`)\n",
    "   - Controls the number of similar documents retrieved from the vector store\n",
    "   - Higher values increase recall (more relevant results), but may introduce noise and increase response time\n",
    "   - In this project, `k=5` strikes a good balance, improving the coverage of retrieval without overwhelming the agent with irrelevant context\n",
    "\n",
    "2. `model_id` (e.g., `\"mistralai/mistral-large\"`)\n",
    "   - Determines the LLM's reasoning and planning abilities\n",
    "   - Larger models generally handle complex tool orchestration and contextual synthesis better\n",
    "\n",
    "3. Embedding model & chunking strategy\n",
    "   - The embedding model (`\"ibm/granite-embedding-278m-multilingual\"`) influences document similarity\n",
    "   - The effectiveness of retrieval also depends on how documents are chunked. Smaller, semantically meaningful chunks (e.g., by headers or paragraphs) often yield more precise results\n",
    "\n",
    "4. Prompt formulation\n",
    "   - Though not a code-level hyperparameter, the clarity of user prompts significantly impacts tool invocation and answer accuracy\n",
    "   - Explicit queries (e.g., “first retrieve, then convert”) help the agent better plan its actions\n",
    "\n",
    "**Suggestions for Further Tuning**\n",
    "- Try different `k` values (e.g., `3`, `7`, `10`) to test for optimal retrieval precision and coverage\n",
    "- Add metadata-based filters to narrow down retrieval scope (e.g., by section headers)\n",
    "- Improve chunking of your documents for more semantically meaningful embeddings\n",
    "- Add post-processing steps to polish or validate multi-tool outputs for consistency"
   ]
  }
 ],
 "metadata": {
  "kernelspec": {
   "display_name": "aiml25-ma3",
   "language": "python",
   "name": "python3"
  },
  "language_info": {
   "codemirror_mode": {
    "name": "ipython",
    "version": 3
   },
   "file_extension": ".py",
   "mimetype": "text/x-python",
   "name": "python",
   "nbconvert_exporter": "python",
   "pygments_lexer": "ipython3",
   "version": "3.11.11"
  }
 },
 "nbformat": 4,
 "nbformat_minor": 2
}
